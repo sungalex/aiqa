{
 "cells": [
  {
   "cell_type": "markdown",
   "metadata": {
    "toc": true
   },
   "source": [
    "<h1>Table of Contents<span class=\"tocSkip\"></span></h1>\n",
    "<div class=\"toc\"><ul class=\"toc-item\"><li><span><a href=\"#한글-POS-Tagging\" data-toc-modified-id=\"한글-POS-Tagging-1\">한글 POS Tagging</a></span></li><li><span><a href=\"#한글-형태소-분석기-성능-비교\" data-toc-modified-id=\"한글-형태소-분석기-성능-비교-2\">한글 형태소 분석기 성능 비교</a></span></li><li><span><a href=\"#한글-실제-데이터(법전)-pos-tagging\" data-toc-modified-id=\"한글-실제-데이터(법전)-pos-tagging-3\">한글 실제 데이터(법전) pos tagging</a></span></li><li><span><a href=\"#naver-뉴스-기사-POS-tagging\" data-toc-modified-id=\"naver-뉴스-기사-POS-tagging-4\">naver 뉴스 기사 POS tagging</a></span></li></ul></div>"
   ]
  },
  {
   "cell_type": "markdown",
   "metadata": {},
   "source": [
    "### 한글 POS Tagging"
   ]
  },
  {
   "cell_type": "code",
   "execution_count": 1,
   "metadata": {},
   "outputs": [],
   "source": [
    "from konlpy.tag import Hannanum   # 한나눔"
   ]
  },
  {
   "cell_type": "code",
   "execution_count": 2,
   "metadata": {},
   "outputs": [],
   "source": [
    "obj = Hannanum()"
   ]
  },
  {
   "cell_type": "code",
   "execution_count": 3,
   "metadata": {},
   "outputs": [
    {
     "data": {
      "text/plain": [
       "['내', '우리', '그', '이', '나', '는', '친구', '는', '잠', '을', '많', '이', '자', 'ㄴ다', '.']"
      ]
     },
     "execution_count": 3,
     "metadata": {},
     "output_type": "execute_result"
    }
   ],
   "source": [
    "sentence = \"내 우리 그 이 나는 친구는 잠을 많이 잔다.\"\n",
    "obj.morphs(sentence)   # 문법적으로 의미 있는 최소한의 단위로 나눔 (띄어쓰기 단위 보다 많아짐. 영어에서와 다름)"
   ]
  },
  {
   "cell_type": "code",
   "execution_count": 4,
   "metadata": {},
   "outputs": [
    {
     "data": {
      "text/plain": [
       "[('내', 'N'),\n",
       " ('우리', 'N'),\n",
       " ('그', 'M'),\n",
       " ('이', 'M'),\n",
       " ('나', 'N'),\n",
       " ('는', 'J'),\n",
       " ('친구', 'N'),\n",
       " ('는', 'J'),\n",
       " ('잠', 'N'),\n",
       " ('을', 'J'),\n",
       " ('많', 'P'),\n",
       " ('이', 'X'),\n",
       " ('자', 'P'),\n",
       " ('ㄴ다', 'E'),\n",
       " ('.', 'S')]"
      ]
     },
     "execution_count": 4,
     "metadata": {},
     "output_type": "execute_result"
    }
   ],
   "source": [
    "obj.pos(sentence)\n",
    "# obj.tagset   # 전체 tag set\n",
    "# obj.tagset[\"P\"]    # P(용언) : 동사"
   ]
  },
  {
   "cell_type": "code",
   "execution_count": 5,
   "metadata": {},
   "outputs": [
    {
     "data": {
      "text/plain": [
       "['내', '우리', '나', '친구', '잠']"
      ]
     },
     "execution_count": 5,
     "metadata": {},
     "output_type": "execute_result"
    }
   ],
   "source": [
    "obj.nouns(sentence)   # 명사"
   ]
  },
  {
   "cell_type": "code",
   "execution_count": 6,
   "metadata": {},
   "outputs": [],
   "source": [
    "from konlpy.tag import Kkma   # 꼬꼬마 (서울대)"
   ]
  },
  {
   "cell_type": "code",
   "execution_count": 7,
   "metadata": {},
   "outputs": [
    {
     "data": {
      "text/plain": [
       "[('내', 'NP'),\n",
       " ('우리', 'NP'),\n",
       " ('그', 'MDT'),\n",
       " ('이', 'NNG'),\n",
       " ('나', 'VV'),\n",
       " ('는', 'ETD'),\n",
       " ('친구', 'NNG'),\n",
       " ('는', 'JX'),\n",
       " ('잠', 'NNG'),\n",
       " ('을', 'JKO'),\n",
       " ('많이', 'MAG'),\n",
       " ('자', 'VV'),\n",
       " ('ㄴ다', 'EFN'),\n",
       " ('.', 'SF')]"
      ]
     },
     "execution_count": 7,
     "metadata": {},
     "output_type": "execute_result"
    }
   ],
   "source": [
    "sentence = \"내 우리 그 이 나는 친구는 잠을 많이 잔다.\"\n",
    "\n",
    "obj = Kkma()\n",
    "obj.morphs(sentence)\n",
    "obj.pos(sentence) \n",
    "#obj.nouns(sentence) "
   ]
  },
  {
   "cell_type": "markdown",
   "metadata": {},
   "source": [
    "- P(용언, 동사)를 Kkma가 더 정확히 분석해줌. Hannanum은 용언이 2개로 잘못 분석되어 있음"
   ]
  },
  {
   "cell_type": "code",
   "execution_count": 8,
   "metadata": {},
   "outputs": [],
   "source": [
    "from konlpy.tag import Komoran   # 코모란"
   ]
  },
  {
   "cell_type": "code",
   "execution_count": 9,
   "metadata": {},
   "outputs": [
    {
     "data": {
      "text/plain": [
       "[('내', 'NP'),\n",
       " ('우리', 'NP'),\n",
       " ('그', 'MM'),\n",
       " ('이', 'MM'),\n",
       " ('나', 'NP'),\n",
       " ('는', 'JX'),\n",
       " ('친구', 'NNG'),\n",
       " ('는', 'JX'),\n",
       " ('잠', 'NNG'),\n",
       " ('을', 'JKO'),\n",
       " ('많이', 'MAG'),\n",
       " ('자', 'VV'),\n",
       " ('ㄴ다', 'EF'),\n",
       " ('.', 'SF')]"
      ]
     },
     "execution_count": 9,
     "metadata": {},
     "output_type": "execute_result"
    }
   ],
   "source": [
    "sentence = \"내 우리 그 이 나는 친구는 잠을 많이 잔다.\"\n",
    "\n",
    "obj = Komoran()\n",
    "obj.morphs(sentence)\n",
    "obj.pos(sentence) \n",
    "#obj.nouns(sentence) "
   ]
  },
  {
   "cell_type": "code",
   "execution_count": 10,
   "metadata": {},
   "outputs": [],
   "source": [
    "from konlpy.tag import Okt   # twitter"
   ]
  },
  {
   "cell_type": "code",
   "execution_count": 11,
   "metadata": {
    "scrolled": true
   },
   "outputs": [
    {
     "data": {
      "text/plain": [
       "[('내', 'Noun'),\n",
       " ('우리', 'Noun'),\n",
       " ('그', 'Noun'),\n",
       " ('이', 'Noun'),\n",
       " ('나', 'Noun'),\n",
       " ('는', 'Josa'),\n",
       " ('친구', 'Noun'),\n",
       " ('는', 'Josa'),\n",
       " ('잠', 'Noun'),\n",
       " ('을', 'Josa'),\n",
       " ('많이', 'Adverb'),\n",
       " ('잔다', 'Verb'),\n",
       " ('.', 'Punctuation')]"
      ]
     },
     "execution_count": 11,
     "metadata": {},
     "output_type": "execute_result"
    }
   ],
   "source": [
    "sentence = \"내 우리 그 이 나는 친구는 잠을 많이 잔다.\"\n",
    "\n",
    "obj = Okt()\n",
    "obj.morphs(sentence)\n",
    "obj.pos(sentence) \n",
    "#obj.nouns(sentence) "
   ]
  },
  {
   "cell_type": "markdown",
   "metadata": {},
   "source": [
    "### 한글 형태소 분석기 성능 비교"
   ]
  },
  {
   "cell_type": "markdown",
   "metadata": {},
   "source": [
    "- 형태소 분리 성능 : Kkma = Komoran = Okt > Hannanum\n",
    "- 품사 분석 성능 : Kkma = Komoran = Okt > Hannanum\n",
    "- 명사 분석 성능 : \n",
    "    - Kkma = Komoran = Okt => 대명사 포함(모든 명사)\n",
    "    - Hannanum => 명사에 대명사 제외"
   ]
  },
  {
   "cell_type": "markdown",
   "metadata": {},
   "source": [
    "### 한글 실제 데이터(법전) pos tagging"
   ]
  },
  {
   "cell_type": "code",
   "execution_count": 12,
   "metadata": {},
   "outputs": [],
   "source": [
    "# 헌법 법전\n",
    "from konlpy.corpus import kolaw"
   ]
  },
  {
   "cell_type": "code",
   "execution_count": 13,
   "metadata": {},
   "outputs": [],
   "source": [
    "# !pip install nltk\n",
    "from nltk.tokenize import word_tokenize"
   ]
  },
  {
   "cell_type": "code",
   "execution_count": 14,
   "metadata": {},
   "outputs": [],
   "source": [
    "corpus = kolaw.open(kolaw.fileids()[0]).read()"
   ]
  },
  {
   "cell_type": "code",
   "execution_count": 17,
   "metadata": {},
   "outputs": [],
   "source": [
    "#print(corpus)"
   ]
  },
  {
   "cell_type": "code",
   "execution_count": 18,
   "metadata": {},
   "outputs": [],
   "source": [
    "tokens = Kkma().pos(corpus)"
   ]
  },
  {
   "cell_type": "code",
   "execution_count": 20,
   "metadata": {},
   "outputs": [],
   "source": [
    "#print(tokens)"
   ]
  },
  {
   "cell_type": "code",
   "execution_count": 21,
   "metadata": {},
   "outputs": [
    {
     "data": {
      "text/plain": [
       "(4640, 10053, ('대한민국', 'NNG'))"
      ]
     },
     "execution_count": 21,
     "metadata": {},
     "output_type": "execute_result"
    }
   ],
   "source": [
    "len(word_tokenize(corpus)), len(tokens), tokens[0]   # POS tagging 후 말뭉치가 더 커졌음"
   ]
  },
  {
   "cell_type": "code",
   "execution_count": 22,
   "metadata": {},
   "outputs": [],
   "source": [
    "from nltk.probability import FreqDist   # 단어 빈도 관련 기능"
   ]
  },
  {
   "cell_type": "code",
   "execution_count": 23,
   "metadata": {},
   "outputs": [],
   "source": [
    "rawList = FreqDist()\n",
    "pairList = FreqDist()\n",
    "wordList = FreqDist()\n",
    "posList = FreqDist()\n",
    "\n",
    "for term in word_tokenize(corpus):\n",
    "    rawList[term] += 1\n",
    "    \n",
    "for pair in tokens:\n",
    "    pairList[pair] += 1\n",
    "    wordList[pair[0]] += 1\n",
    "    posList[pair[1]] += 1"
   ]
  },
  {
   "cell_type": "code",
   "execution_count": 24,
   "metadata": {},
   "outputs": [
    {
     "data": {
      "text/plain": [
       "FreqDist({'.': 357, ',': 101, '수': 87, '①': 75, '또는': 70, '의하여': 66, '법률이': 57, '있다': 57, '한다': 56, '정하는': 50, ...})"
      ]
     },
     "execution_count": 24,
     "metadata": {},
     "output_type": "execute_result"
    }
   ],
   "source": [
    "rawList"
   ]
  },
  {
   "cell_type": "code",
   "execution_count": 25,
   "metadata": {},
   "outputs": [
    {
     "data": {
      "text/plain": [
       "FreqDist({('의', 'JKG'): 532, ('.', 'SF'): 359, ('하', 'XSV'): 350, ('에', 'JKM'): 328, ('ㄴ다', 'EFN'): 243, ('ㄴ', 'ETD'): 234, ('을', 'JKO'): 211, ('은', 'JX'): 182, ('는', 'JX'): 180, ('저', 'NP'): 155, ...})"
      ]
     },
     "execution_count": 25,
     "metadata": {},
     "output_type": "execute_result"
    }
   ],
   "source": [
    "pairList"
   ]
  },
  {
   "cell_type": "code",
   "execution_count": 26,
   "metadata": {},
   "outputs": [
    {
     "data": {
      "text/plain": [
       "(2023, 1294, 1247, 38)"
      ]
     },
     "execution_count": 26,
     "metadata": {},
     "output_type": "execute_result"
    }
   ],
   "source": [
    "len(rawList), len(pairList), len(wordList), len(posList)"
   ]
  },
  {
   "cell_type": "code",
   "execution_count": 27,
   "metadata": {},
   "outputs": [],
   "source": [
    "import matplotlib.pyplot as plt"
   ]
  },
  {
   "cell_type": "code",
   "execution_count": 30,
   "metadata": {},
   "outputs": [
    {
     "data": {
      "text/plain": [
       "Text(0, 0.5, '빈도')"
      ]
     },
     "execution_count": 30,
     "metadata": {},
     "output_type": "execute_result"
    },
    {
     "data": {
      "image/png": "[encoded data removed]",
      "text/plain": [
       "<Figure size 432x288 with 1 Axes>"
      ]
     },
     "metadata": {
      "needs_background": "light"
     },
     "output_type": "display_data"
    }
   ],
   "source": [
    "x = range(1, 51)\n",
    "y = [pair[1] for pair in rawList.most_common(50)]  \n",
    "yy = [pair[1] for pair in pairList.most_common(50)]   \n",
    "yyy = [pair[1] for pair in wordList.most_common(50)]   \n",
    "\n",
    "plt.plot(x, y, \"r-\")\n",
    "plt.plot(x, yy, \"b-\")\n",
    "plt.plot(x, yyy, \"g-\")\n",
    "\n",
    "plt.xlabel(\"단어의 순위\")\n",
    "plt.ylabel(\"빈도\")"
   ]
  },
  {
   "cell_type": "markdown",
   "metadata": {},
   "source": [
    "### naver 뉴스 기사 POS tagging"
   ]
  },
  {
   "cell_type": "code",
   "execution_count": 31,
   "metadata": {},
   "outputs": [
    {
     "data": {
      "text/plain": [
       "Text(0, 0.5, '빈도')"
      ]
     },
     "execution_count": 31,
     "metadata": {},
     "output_type": "execute_result"
    },
    {
     "data": {
      "image/png": "[encoded data removed]",
      "text/plain": [
       "<Figure size 432x288 with 1 Axes>"
      ]
     },
     "metadata": {
      "needs_background": "light"
     },
     "output_type": "display_data"
    }
   ],
   "source": [
    "import os\n",
    "\n",
    "# 뉴스 기사 읽어오기\n",
    "path = \"naver_news\"\n",
    "corpus = \"\"\n",
    "for file in [_ for _ in os.listdir(path) if _.endswith(\".txt\")]:\n",
    "    with open(\"{0}/{1}\".format(path, file), encoding=\"utf8\") as fp:\n",
    "        corpus += fp.read()\n",
    "\n",
    "# word tokenize\n",
    "rawList = FreqDist()\n",
    "for term in word_tokenize(corpus):\n",
    "    rawList[term] += 1\n",
    "\n",
    "# Kkma POS tagging\n",
    "tokens = Kkma().pos(corpus)\n",
    "\n",
    "pairList = FreqDist()\n",
    "wordList = FreqDist()\n",
    "posList = FreqDist()\n",
    "\n",
    "for pair in tokens:\n",
    "    pairList[pair] += 1\n",
    "    wordList[pair[0]] += 1\n",
    "    posList[pair[1]] += 1\n",
    "    \n",
    "# 그래프 그리기\n",
    "x = range(1, 51)\n",
    "y = [pair[1] for pair in rawList.most_common(50)]  \n",
    "yy = [pair[1] for pair in pairList.most_common(50)]   \n",
    "yyy = [pair[1] for pair in wordList.most_common(50)]   \n",
    "\n",
    "plt.plot(x, y, \"r-\")\n",
    "plt.plot(x, yy, \"b-\")\n",
    "plt.plot(x, yyy, \"g-\")\n",
    "\n",
    "plt.xlabel(\"단어의 순위\")\n",
    "plt.ylabel(\"빈도\")"
   ]
  },
  {
   "cell_type": "code",
   "execution_count": null,
   "metadata": {},
   "outputs": [],
   "source": []
  }
 ],
 "metadata": {
  "kernelspec": {
   "display_name": "Python 3",
   "language": "python",
   "name": "python3"
  },
  "language_info": {
   "codemirror_mode": {
    "name": "ipython",
    "version": 3
   },
   "file_extension": ".py",
   "mimetype": "text/x-python",
   "name": "python",
   "nbconvert_exporter": "python",
   "pygments_lexer": "ipython3",
   "version": "3.6.8"
  },
  "latex_envs": {
   "LaTeX_envs_menu_present": true,
   "autoclose": false,
   "autocomplete": true,
   "bibliofile": "biblio.bib",
   "cite_by": "apalike",
   "current_citInitial": 1,
   "eqLabelWithNumbers": true,
   "eqNumInitial": 1,
   "hotkeys": {
    "equation": "Ctrl-E",
    "itemize": "Ctrl-I"
   },
   "labels_anchors": false,
   "latex_user_defs": false,
   "report_style_numbering": false,
   "user_envs_cfg": false
  },
  "toc": {
   "base_numbering": 1,
   "nav_menu": {},
   "number_sections": false,
   "sideBar": true,
   "skip_h1_title": false,
   "title_cell": "Table of Contents",
   "title_sidebar": "Contents",
   "toc_cell": true,
   "toc_position": {},
   "toc_section_display": true,
   "toc_window_display": false
  }
 },
 "nbformat": 4,
 "nbformat_minor": 2
}
