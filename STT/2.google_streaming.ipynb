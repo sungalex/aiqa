{
 "cells": [
  {
   "cell_type": "markdown",
   "metadata": {
    "toc": true
   },
   "source": [
    "<h1>Table of Contents<span class=\"tocSkip\"></span></h1>\n",
    "<div class=\"toc\"><ul class=\"toc-item\"><li><span><a href=\"#Google-Cloud-Speech-to-Text-API-Streaming-example\" data-toc-modified-id=\"Google-Cloud-Speech-to-Text-API-Streaming-example-1\">Google Cloud Speech-to-Text API Streaming example</a></span></li></ul></div>"
   ]
  },
  {
   "cell_type": "markdown",
   "metadata": {},
   "source": [
    "# Google Cloud Speech-to-Text API Streaming example"
   ]
  },
  {
   "cell_type": "markdown",
   "metadata": {},
   "source": [
    "- 1분 이상의 긴 오디오 파일을 Streaming 방식으로 처리하는 샘플\n",
    "- https://cloud.google.com/speech-to-text/docs/streaming-recognize\n",
    "- google.cloud.speech.SpeechClient().**streaming_recognize(streaming_config, requests)**\n",
    "- **Audio file size limit : 10M bytes**"
   ]
  },
  {
   "cell_type": "code",
   "execution_count": 1,
   "metadata": {},
   "outputs": [],
   "source": [
    "def transcribe_streaming(stream_file):\n",
    "    import io\n",
    "\n",
    "    \"\"\"Streams transcription of the given audio file.\"\"\"\n",
    "    from google.cloud import speech\n",
    "    from google.cloud.speech import enums\n",
    "    from google.cloud.speech import types\n",
    "    \n",
    "    client = speech.SpeechClient()\n",
    "\n",
    "    with io.open(stream_file, 'rb') as audio_file:\n",
    "        content = audio_file.read()\n",
    "\n",
    "    # In practice, stream should be a generator yielding chunks of audio data.\n",
    "    stream = [content]\n",
    "\n",
    "    requests = (types.StreamingRecognizeRequest(audio_content=chunk)\n",
    "                for chunk in stream)\n",
    "\n",
    "    config = types.RecognitionConfig(\n",
    "        encoding=enums.RecognitionConfig.AudioEncoding.LINEAR16,\n",
    "        sample_rate_hertz=16000,\n",
    "        language_code='ko-KR',\n",
    "        enable_automatic_punctuation=True)\n",
    "    streaming_config = types.StreamingRecognitionConfig(config=config)\n",
    "\n",
    "    # streaming_recognize returns a generator.\n",
    "    responses = client.streaming_recognize(streaming_config, requests)\n",
    "\n",
    "    for response in responses:\n",
    "        # Once the transcription has settled, the first result will contain the\n",
    "        # is_final result. The other results will be for subsequent portions of\n",
    "        # the audio.\n",
    "        \n",
    "        for result in response.results:\n",
    "            print('Finished: {}'.format(result.is_final))\n",
    "            print('Stability: {}'.format(result.stability))\n",
    "            alternatives = result.alternatives\n",
    "            # The alternatives are ordered from most likely to least.\n",
    "            for alternative in alternatives:\n",
    "                print('Confidence: {}'.format(alternative.confidence))\n",
    "                print(u'Transcript: {}'.format(alternative.transcript))"
   ]
  },
  {
   "cell_type": "code",
   "execution_count": 2,
   "metadata": {},
   "outputs": [
    {
     "name": "stdout",
     "output_type": "stream",
     "text": [
      "Finished: True\n",
      "Stability: 0.0\n",
      "Confidence: 0.9069861769676208\n",
      "Transcript: 출장을 또 고생했지만 아직 팀장과의 면담은 남아있는 상태지만 일정에 대해서 좀 소개를 해 주죠네 한국영화가 100주년을 기념하는 해인데 올해가 겹경사를 맞았어요. 우리나라 영화 중에 유일하게 칸 영화제 경쟁부분에 진출한 영화 기생충이 최고상인 황금종려상을 받은 건데요. 그 역사적인 현장에 있었기 때문에 현장 분위기와 함께 보고들은 거 좀 낱낱이 설명해드리려고 시상식 때 참석을 해 달라는 요청을 받았기 때문에 약간 기대하는 분위기가 있었을 것 같은데 어땠어요? 시상식에 참석해 달라는 말이 곧 수선 가시권에 들었다라는 똑같거든요. 칸영화제에서는 이게 우리나라의 같은 경우는 시상식에 참석한다고 해서 모든 이들에게 사무실 않잖아요. 언제 칸영화제는 시상식에 참석해 달라 이렇게 얘기를 하면 뭐 하나 받겠구나.\n",
      "Finished: True\n",
      "Stability: 0.0\n",
      "Confidence: 0.9066632986068726\n",
      "Transcript: 이렇게 기대를 해도 되는 그런 또 독특한 점은 관례가 있어요. 송강호 씨한테 제가 직접 들어보니까 정오부터 1시 사이에 연락이 온다고 하는데 12시 41분 쯤에 연락이 왔다고 해요. 40분 동안 2분의 굉장히 피말리는 순간이었다. 이렇게 얘기해도 했었고요. 그렇기 때문에 일단 그렇게 알고 나서는 어떤 이제 상을 받을것인가? 그거에 대해서 좀 많이 이제 기자들도 그렇고 많이 집중을 하게 되었다 거 같아요. 황금종려상으로 사실을 뽑힐 거라고 예상을 했었나요? 21일 극장에서 처음으로 배를 벗었는데 당시부터 좀 심상치 않기는 상실했습니다. 상영 중에 이례적으로 길이 박스에 버금가는 박수갈채가 나왔었는데요. 그 어떤 장면에서 그렇게 영화 상영 중인 영화 전반적으로 영화 1부와 2부로 나누는 좀게 중요한 거지 분기점이 되는 장면이 있어요. 근데 좀 슬랩스틱 돋보기는 그런 장면인데 그 장면을 끝나고 나자마자 정말 공감하는데 심박수를.\n",
      "Finished: True\n",
      "Stability: 0.0\n",
      "Confidence: 0.9037630558013916\n",
      "Transcript: 네가 멍청한 것도 아닌데 이거 상영 후에도 약 8분간 기립박수가 있었고, 이후에 이제 한지 매체들에 받는 거 굉장히 좋았기 때문에 그런 부분에서 봤을 때 조금 잘하면 탈 수도 있지 않을까? 이런 반응들이 현지에서는 좀 많이 있었습니다. 굉장히 길어져서 집에 가자라고 이렇게 말을 했다고 하는데 사실 의례적으로 나오는게 맞아요. 사실 뭐 무조건 다 모든 작품을 박수를 치고 근데 자기가 좀 다르게 느꼈던건 봉감독 기생충 작품의 경우에는 박수가 정말 재편으로 말씀입니까? 꽉 찬 밥 사 오라고 할까요? 진짜 되게 마음에서 정말 우러나서 나오는 그런 형식적인 말씀 봉준호 감독 탔다.\n",
      "Finished: True\n",
      "Stability: 0.0\n",
      "Confidence: 0.9112828969955444\n",
      "Transcript: 이후에는 혹시 기생충 배우 안 하고 감독을 때 만날 기회가 있었는데 너무 신기한 경험을 했었던게 시상식에 끝나고 이제 수상자 기자회견 바로 직전에 봉준호 감독이랑 송광호배우가 직접 황금종려상 트로피를 들고 왔어요 분이시군요 그런데 이제 그만 흥분을 감추지 못 하면서 정말 한 동에 번쩍 되면서 약간 내가 이제 받았다 이런 느낌으로 들어오시더라구요 이제 파이프 주변 분들이랑 하이파이브도 하고 그때 열기가 느껴지네 거 굉장히 저도 좀 남달랐던 거 같아 그 느낌 자체가 기자들 좀 같이 응원해 주는 느낌을 받아서 더 좋은 결과가 있었던 거 같다면서 좀 기다려 살 테니 좀 챙겨 놓은 모습 많이 보여 줬어요. 그래서 그 부분은 또 인상깊은 장면이었습니다. 아 여기다가 출장을 그것도 이번에 굉장히 큰 뉴스를 안고 잘 다녀 온 거 같아요.\n"
     ]
    }
   ],
   "source": [
    "import os\n",
    "\n",
    "# Request payload size limit: 10485760 bytes\n",
    "stream_file = os.path.join(os.getcwd(), 'audio_file', '황금종려상자랑봉준호_3명인터뷰_YTN_16000.wav')\n",
    "transcribe_streaming(stream_file)"
   ]
  },
  {
   "cell_type": "code",
   "execution_count": null,
   "metadata": {},
   "outputs": [],
   "source": []
  }
 ],
 "metadata": {
  "kernelspec": {
   "display_name": "Python 3",
   "language": "python",
   "name": "python3"
  },
  "language_info": {
   "codemirror_mode": {
    "name": "ipython",
    "version": 3
   },
   "file_extension": ".py",
   "mimetype": "text/x-python",
   "name": "python",
   "nbconvert_exporter": "python",
   "pygments_lexer": "ipython3",
   "version": "3.6.8"
  },
  "latex_envs": {
   "LaTeX_envs_menu_present": true,
   "autoclose": false,
   "autocomplete": true,
   "bibliofile": "biblio.bib",
   "cite_by": "apalike",
   "current_citInitial": 1,
   "eqLabelWithNumbers": true,
   "eqNumInitial": 1,
   "hotkeys": {
    "equation": "Ctrl-E",
    "itemize": "Ctrl-I"
   },
   "labels_anchors": false,
   "latex_user_defs": false,
   "report_style_numbering": false,
   "user_envs_cfg": false
  },
  "toc": {
   "base_numbering": 1,
   "nav_menu": {},
   "number_sections": false,
   "sideBar": true,
   "skip_h1_title": false,
   "title_cell": "Table of Contents",
   "title_sidebar": "Contents",
   "toc_cell": true,
   "toc_position": {},
   "toc_section_display": true,
   "toc_window_display": false
  }
 },
 "nbformat": 4,
 "nbformat_minor": 2
}
