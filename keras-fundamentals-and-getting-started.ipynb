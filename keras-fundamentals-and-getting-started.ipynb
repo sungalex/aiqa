{
 "cells": [
  {
   "cell_type": "markdown",
   "metadata": {
    "toc": true
   },
   "source": [
    "<h1>Table of Contents<span class=\"tocSkip\"></span></h1>\n",
    "<div class=\"toc\"><ul class=\"toc-item\"><li><span><a href=\"#1.-케라스-Sequential-모델-시작하기\" data-toc-modified-id=\"1.-케라스-Sequential-모델-시작하기-1\">1. 케라스 Sequential 모델 시작하기</a></span><ul class=\"toc-item\"><li><span><a href=\"#모듈-import\" data-toc-modified-id=\"모듈-import-1.1\">모듈 import</a></span></li><li><span><a href=\"#데이터-준비\" data-toc-modified-id=\"데이터-준비-1.2\">데이터 준비</a></span></li><li><span><a href=\"#Sequential-모델-생성-및-레이어-추가\" data-toc-modified-id=\"Sequential-모델-생성-및-레이어-추가-1.3\">Sequential 모델 생성 및 레이어 추가</a></span></li><li><span><a href=\"#학습과정-설정\" data-toc-modified-id=\"학습과정-설정-1.4\">학습과정 설정</a></span></li><li><span><a href=\"#모델-훈련\" data-toc-modified-id=\"모델-훈련-1.5\">모델 훈련</a></span></li><li><span><a href=\"#모델-성능평가-및-예측\" data-toc-modified-id=\"모델-성능평가-및-예측-1.6\">모델 성능평가 및 예측</a></span></li></ul></li><li><span><a href=\"#2.-Sequential-모델-생성-시-레이어-추가하기\" data-toc-modified-id=\"2.-Sequential-모델-생성-시-레이어-추가하기-2\">2. Sequential 모델 생성 시 레이어 추가하기</a></span><ul class=\"toc-item\"><li><span><a href=\"#모델-생성-시-레이어-추가-:-Activation-층을-별도-층으로-추가\" data-toc-modified-id=\"모델-생성-시-레이어-추가-:-Activation-층을-별도-층으로-추가-2.1\">모델 생성 시 레이어 추가 : Activation 층을 별도 층으로 추가</a></span></li><li><span><a href=\"#모델-생성-시-레이어-추가-:-Activation-층을-포함하여-추가\" data-toc-modified-id=\"모델-생성-시-레이어-추가-:-Activation-층을-포함하여-추가-2.2\">모델 생성 시 레이어 추가 : Activation 층을 포함하여 추가</a></span></li></ul></li><li><span><a href=\"#3.-케라스-함수형-API-첫걸음\" data-toc-modified-id=\"3.-케라스-함수형-API-첫걸음-3\">3. 케라스 함수형 API 첫걸음</a></span><ul class=\"toc-item\"><li><span><a href=\"#밀집-연결-네트워크(예시)\" data-toc-modified-id=\"밀집-연결-네트워크(예시)-3.1\">밀집 연결 네트워크(예시)</a></span></li></ul></li><li><span><a href=\"#4.-Keras-시각화\" data-toc-modified-id=\"4.-Keras-시각화-4\">4. Keras 시각화</a></span></li></ul></div>"
   ]
  },
  {
   "cell_type": "markdown",
   "metadata": {},
   "source": [
    "# 1. 케라스 Sequential 모델 시작하기"
   ]
  },
  {
   "cell_type": "markdown",
   "metadata": {},
   "source": [
    "## 모듈 import"
   ]
  },
  {
   "cell_type": "code",
   "execution_count": 1,
   "metadata": {},
   "outputs": [],
   "source": [
    "from tensorflow import keras"
   ]
  },
  {
   "cell_type": "markdown",
   "metadata": {},
   "source": [
    "## 데이터 준비"
   ]
  },
  {
   "cell_type": "code",
   "execution_count": 2,
   "metadata": {},
   "outputs": [],
   "source": [
    "# mnist datasets load\n",
    "mnist = keras.datasets.mnist\n",
    "\n",
    "(x_train, y_train), (x_test, y_test) = mnist.load_data()\n",
    "x_train, x_test = x_train / 255.0, x_test / 255.0\n",
    "\n",
    "# test data의 일부를 predict data로 분리\n",
    "x_pred, y_pred = x_test[:1000], y_test[:1000]\n",
    "x_test, y_test = x_test[1000:], y_test[1000:]"
   ]
  },
  {
   "cell_type": "code",
   "execution_count": 3,
   "metadata": {},
   "outputs": [
    {
     "name": "stdout",
     "output_type": "stream",
     "text": [
      "train data shape: (60000, 28, 28) (60000,)\n",
      "test data shape: (9000, 28, 28) (9000,)\n",
      "predict data shape: (1000, 28, 28) (1000,)\n"
     ]
    }
   ],
   "source": [
    "print(\"train data shape:\", x_train.shape, y_train.shape)\n",
    "print(\"test data shape:\", x_test.shape, y_test.shape)\n",
    "print(\"predict data shape:\", x_pred.shape, y_pred.shape)"
   ]
  },
  {
   "cell_type": "markdown",
   "metadata": {},
   "source": [
    "## Sequential 모델 생성 및 레이어 추가"
   ]
  },
  {
   "cell_type": "code",
   "execution_count": 4,
   "metadata": {},
   "outputs": [],
   "source": [
    "model = keras.models.Sequential()"
   ]
  },
  {
   "cell_type": "code",
   "execution_count": 5,
   "metadata": {},
   "outputs": [],
   "source": [
    "model.add(keras.layers.Flatten(input_shape=(28, 28)))  #(28, 28) 2차원 shape를 28*28 => 1차원 (784,) shape로 변경\n",
    "model.add(keras.layers.Dense(64, activation='relu'))\n",
    "model.add(keras.layers.Dense(10, activation='softmax'))"
   ]
  },
  {
   "cell_type": "code",
   "execution_count": 6,
   "metadata": {
    "scrolled": true
   },
   "outputs": [
    {
     "name": "stdout",
     "output_type": "stream",
     "text": [
      "Model: \"sequential\"\n",
      "_________________________________________________________________\n",
      "Layer (type)                 Output Shape              Param #   \n",
      "=================================================================\n",
      "flatten (Flatten)            (None, 784)               0         \n",
      "_________________________________________________________________\n",
      "dense (Dense)                (None, 64)                50240     \n",
      "_________________________________________________________________\n",
      "dense_1 (Dense)              (None, 10)                650       \n",
      "=================================================================\n",
      "Total params: 50,890\n",
      "Trainable params: 50,890\n",
      "Non-trainable params: 0\n",
      "_________________________________________________________________\n"
     ]
    }
   ],
   "source": [
    "# 모델 구조 확인\n",
    "model.summary()"
   ]
  },
  {
   "cell_type": "markdown",
   "metadata": {},
   "source": [
    "## 학습과정 설정"
   ]
  },
  {
   "cell_type": "code",
   "execution_count": 7,
   "metadata": {},
   "outputs": [],
   "source": [
    "model.compile(optimizer='adam',\n",
    "            loss='sparse_categorical_crossentropy',\n",
    "            metrics=['accuracy'])"
   ]
  },
  {
   "cell_type": "markdown",
   "metadata": {},
   "source": [
    "## 모델 훈련"
   ]
  },
  {
   "cell_type": "code",
   "execution_count": 12,
   "metadata": {},
   "outputs": [
    {
     "name": "stdout",
     "output_type": "stream",
     "text": [
      "Epoch 1/5\n",
      "1875/1875 [==============================] - 2s 1ms/step - loss: 0.0427 - accuracy: 0.9900\n",
      "Epoch 2/5\n",
      "1875/1875 [==============================] - 2s 1ms/step - loss: 0.0250 - accuracy: 0.9938\n",
      "Epoch 3/5\n",
      "1875/1875 [==============================] - 2s 1ms/step - loss: 0.0185 - accuracy: 0.9948\n",
      "Epoch 4/5\n",
      "1875/1875 [==============================] - 3s 2ms/step - loss: 0.0139 - accuracy: 0.9959\n",
      "Epoch 5/5\n",
      "1875/1875 [==============================] - 3s 1ms/step - loss: 0.0130 - accuracy: 0.9962\n"
     ]
    }
   ],
   "source": [
    "history = model.fit(x_train, y_train, epochs=5, batch_size=32)"
   ]
  },
  {
   "cell_type": "code",
   "execution_count": 13,
   "metadata": {
    "scrolled": true
   },
   "outputs": [
    {
     "data": {
      "text/plain": [
       "['__class__',\n",
       " '__contains__',\n",
       " '__delattr__',\n",
       " '__delitem__',\n",
       " '__dir__',\n",
       " '__doc__',\n",
       " '__eq__',\n",
       " '__format__',\n",
       " '__ge__',\n",
       " '__getattribute__',\n",
       " '__getitem__',\n",
       " '__gt__',\n",
       " '__hash__',\n",
       " '__init__',\n",
       " '__init_subclass__',\n",
       " '__iter__',\n",
       " '__le__',\n",
       " '__len__',\n",
       " '__lt__',\n",
       " '__ne__',\n",
       " '__new__',\n",
       " '__reduce__',\n",
       " '__reduce_ex__',\n",
       " '__repr__',\n",
       " '__setattr__',\n",
       " '__setitem__',\n",
       " '__sizeof__',\n",
       " '__str__',\n",
       " '__subclasshook__',\n",
       " 'clear',\n",
       " 'copy',\n",
       " 'fromkeys',\n",
       " 'get',\n",
       " 'items',\n",
       " 'keys',\n",
       " 'pop',\n",
       " 'popitem',\n",
       " 'setdefault',\n",
       " 'update',\n",
       " 'values']"
      ]
     },
     "execution_count": 13,
     "metadata": {},
     "output_type": "execute_result"
    }
   ],
   "source": [
    "#dir(history)\n",
    "dir(history.history)"
   ]
  },
  {
   "cell_type": "code",
   "execution_count": 14,
   "metadata": {},
   "outputs": [
    {
     "data": {
      "text/plain": [
       "[0.9900333285331726,\n",
       " 0.9937666654586792,\n",
       " 0.9948499798774719,\n",
       " 0.9959499835968018,\n",
       " 0.9961666464805603]"
      ]
     },
     "execution_count": 14,
     "metadata": {},
     "output_type": "execute_result"
    }
   ],
   "source": [
    "# print(history.history.keys())\n",
    "history.history[\"accuracy\"]   # or \"loss\""
   ]
  },
  {
   "cell_type": "markdown",
   "metadata": {},
   "source": [
    "## 모델 성능평가 및 예측"
   ]
  },
  {
   "cell_type": "code",
   "execution_count": 11,
   "metadata": {},
   "outputs": [
    {
     "name": "stdout",
     "output_type": "stream",
     "text": [
      "282/282 [==============================] - 0s 806us/step - loss: 0.0874 - accuracy: 0.9726\n"
     ]
    }
   ],
   "source": [
    "# 학습에 사용하지 않은 테스트 데이터로 성능을 평가\n",
    "loss_and_metrics = model.evaluate(x_test, y_test, batch_size=32)"
   ]
  },
  {
   "cell_type": "code",
   "execution_count": 12,
   "metadata": {},
   "outputs": [
    {
     "data": {
      "text/plain": [
       "[0.0874423012137413, 0.9725555777549744]"
      ]
     },
     "execution_count": 12,
     "metadata": {},
     "output_type": "execute_result"
    }
   ],
   "source": [
    "loss_and_metrics  # loss & accuracy"
   ]
  },
  {
   "cell_type": "code",
   "execution_count": 13,
   "metadata": {},
   "outputs": [],
   "source": [
    "classes = model.predict(x_pred, batch_size=32)"
   ]
  },
  {
   "cell_type": "code",
   "execution_count": 14,
   "metadata": {},
   "outputs": [
    {
     "data": {
      "text/plain": [
       "(1000, 10)"
      ]
     },
     "execution_count": 14,
     "metadata": {},
     "output_type": "execute_result"
    }
   ],
   "source": [
    "classes.shape  # 예측 결과는 10개 classes에 대한 확률값이다. (가장 큰 확률의 index 값이 예측결과 이다.)"
   ]
  },
  {
   "cell_type": "code",
   "execution_count": 15,
   "metadata": {
    "scrolled": true
   },
   "outputs": [
    {
     "name": "stdout",
     "output_type": "stream",
     "text": [
      "예측정확도: 0.977\n"
     ]
    }
   ],
   "source": [
    "# 예측값과 실제값을 비교해봅니다.\n",
    "import numpy as np\n",
    "\n",
    "pred = [np.argmax(_) for _ in classes]    # 확률값 중 가장 큰 값을 예측값으로 변환\n",
    "\n",
    "# 예측이 잘못된 결과만 출력해봅니다.\n",
    "# for p, y in zip(pred, y_pred):\n",
    "#     if p != y:\n",
    "#         print(p, y)\n",
    "\n",
    "# 예측 정확도를 확인해봅니다.\n",
    "acc = [p==y for p, y in zip(pred, y_pred)]\n",
    "print(\"예측정확도:\", np.sum(acc)/len(acc))"
   ]
  },
  {
   "cell_type": "markdown",
   "metadata": {},
   "source": [
    "# 2. Sequential 모델 생성 시 레이어 추가하기"
   ]
  },
  {
   "cell_type": "markdown",
   "metadata": {},
   "source": [
    "## 모델 생성 시 레이어 추가 : Activation 층을 별도 층으로 추가"
   ]
  },
  {
   "cell_type": "code",
   "execution_count": 16,
   "metadata": {},
   "outputs": [
    {
     "name": "stderr",
     "output_type": "stream",
     "text": [
      "Using TensorFlow backend.\n"
     ]
    }
   ],
   "source": [
    "from keras.models import Sequential     # tensorflow.keras.models.Sequential\n",
    "from keras.layers import Dense, Activation, Flatten     # tensorflow.keras.layers.Dense, ..."
   ]
  },
  {
   "cell_type": "code",
   "execution_count": 17,
   "metadata": {},
   "outputs": [],
   "source": [
    "model2 = Sequential([\n",
    "    Flatten(input_shape=(28,28)),\n",
    "    Dense(64),\n",
    "    Activation('relu'),\n",
    "    Dense(10),\n",
    "    Activation('softmax'),\n",
    "])"
   ]
  },
  {
   "cell_type": "code",
   "execution_count": 18,
   "metadata": {},
   "outputs": [
    {
     "name": "stdout",
     "output_type": "stream",
     "text": [
      "Model: \"sequential_1\"\n",
      "_________________________________________________________________\n",
      "Layer (type)                 Output Shape              Param #   \n",
      "=================================================================\n",
      "flatten_1 (Flatten)          (None, 784)               0         \n",
      "_________________________________________________________________\n",
      "dense_2 (Dense)              (None, 64)                50240     \n",
      "_________________________________________________________________\n",
      "activation (Activation)      (None, 64)                0         \n",
      "_________________________________________________________________\n",
      "dense_3 (Dense)              (None, 10)                650       \n",
      "_________________________________________________________________\n",
      "activation_1 (Activation)    (None, 10)                0         \n",
      "=================================================================\n",
      "Total params: 50,890\n",
      "Trainable params: 50,890\n",
      "Non-trainable params: 0\n",
      "_________________________________________________________________\n"
     ]
    }
   ],
   "source": [
    "model2.summary()"
   ]
  },
  {
   "cell_type": "code",
   "execution_count": 19,
   "metadata": {},
   "outputs": [
    {
     "name": "stdout",
     "output_type": "stream",
     "text": [
      "Epoch 1/5\n",
      "1875/1875 [==============================] - 2s 1ms/step - loss: 0.3013 - accuracy: 0.9156\n",
      "Epoch 2/5\n",
      "1875/1875 [==============================] - 2s 970us/step - loss: 0.1461 - accuracy: 0.9576\n",
      "Epoch 3/5\n",
      "1875/1875 [==============================] - 2s 869us/step - loss: 0.1053 - accuracy: 0.9686\n",
      "Epoch 4/5\n",
      "1875/1875 [==============================] - 2s 807us/step - loss: 0.0832 - accuracy: 0.9749\n",
      "Epoch 5/5\n",
      "1875/1875 [==============================] - 2s 1ms/step - loss: 0.0671 - accuracy: 0.9797\n"
     ]
    },
    {
     "data": {
      "text/plain": [
       "<tensorflow.python.keras.callbacks.History at 0x7fd1e2dcbb38>"
      ]
     },
     "execution_count": 19,
     "metadata": {},
     "output_type": "execute_result"
    }
   ],
   "source": [
    "model2.compile(optimizer='adam',\n",
    "            loss='sparse_categorical_crossentropy',\n",
    "            metrics=['accuracy'])\n",
    "model2.fit(x_train, y_train, epochs=5, batch_size=32)"
   ]
  },
  {
   "cell_type": "markdown",
   "metadata": {},
   "source": [
    "## 모델 생성 시 레이어 추가 : Activation 층을 포함하여 추가"
   ]
  },
  {
   "cell_type": "code",
   "execution_count": 20,
   "metadata": {},
   "outputs": [],
   "source": [
    "model3 = Sequential([\n",
    "    Flatten(input_shape=(28,28)),\n",
    "    Dense(64, activation='relu'),\n",
    "    Dense(10, activation='softmax'),\n",
    "])"
   ]
  },
  {
   "cell_type": "code",
   "execution_count": 21,
   "metadata": {},
   "outputs": [
    {
     "name": "stdout",
     "output_type": "stream",
     "text": [
      "Model: \"sequential_2\"\n",
      "_________________________________________________________________\n",
      "Layer (type)                 Output Shape              Param #   \n",
      "=================================================================\n",
      "flatten_2 (Flatten)          (None, 784)               0         \n",
      "_________________________________________________________________\n",
      "dense_4 (Dense)              (None, 64)                50240     \n",
      "_________________________________________________________________\n",
      "dense_5 (Dense)              (None, 10)                650       \n",
      "=================================================================\n",
      "Total params: 50,890\n",
      "Trainable params: 50,890\n",
      "Non-trainable params: 0\n",
      "_________________________________________________________________\n"
     ]
    }
   ],
   "source": [
    "model3.summary()"
   ]
  },
  {
   "cell_type": "code",
   "execution_count": 22,
   "metadata": {},
   "outputs": [
    {
     "name": "stdout",
     "output_type": "stream",
     "text": [
      "Epoch 1/5\n",
      "1875/1875 [==============================] - 2s 928us/step - loss: 0.3037 - accuracy: 0.9140\n",
      "Epoch 2/5\n",
      "1875/1875 [==============================] - 2s 960us/step - loss: 0.1440 - accuracy: 0.9583\n",
      "Epoch 3/5\n",
      "1875/1875 [==============================] - 2s 989us/step - loss: 0.1046 - accuracy: 0.9689\n",
      "Epoch 4/5\n",
      "1875/1875 [==============================] - 2s 1ms/step - loss: 0.0819 - accuracy: 0.9754\n",
      "Epoch 5/5\n",
      "1875/1875 [==============================] - 2s 943us/step - loss: 0.0671 - accuracy: 0.9795\n"
     ]
    },
    {
     "data": {
      "text/plain": [
       "<tensorflow.python.keras.callbacks.History at 0x7fd1e26e3c88>"
      ]
     },
     "execution_count": 22,
     "metadata": {},
     "output_type": "execute_result"
    }
   ],
   "source": [
    "model3.compile(optimizer='adam',\n",
    "            loss='sparse_categorical_crossentropy',\n",
    "            metrics=['accuracy'])\n",
    "model3.fit(x_train, y_train, epochs=5, batch_size=32)"
   ]
  },
  {
   "cell_type": "markdown",
   "metadata": {},
   "source": [
    "# 3. 케라스 함수형 API 첫걸음"
   ]
  },
  {
   "cell_type": "markdown",
   "metadata": {},
   "source": [
    "## 밀집 연결 네트워크(예시)"
   ]
  },
  {
   "cell_type": "markdown",
   "metadata": {},
   "source": [
    "밀집 연결 네트워크를 구현하기에는 Sequential 모델이 더 적합한 선택이겠지만, 아주 간단한 예시를 위해서 케라스 함수형 API로 구현해 보겠습니다.\n",
    "\n",
    "- 레이어 인스턴스는 (텐서에 대해) 호출 가능하고, 텐서를 반환합니다.\n",
    "\n",
    "- 인풋 텐서와 아웃풋 텐서는 Model을 정의하는데 사용됩니다.\n",
    "\n",
    "- 이 예시 모델은 케라스 Sequential 모델과 완전히 동일한 방식으로 학습됩니다."
   ]
  },
  {
   "cell_type": "code",
   "execution_count": 17,
   "metadata": {},
   "outputs": [
    {
     "name": "stdout",
     "output_type": "stream",
     "text": [
      "(60000, 784) (9000, 784) (1000, 784)\n"
     ]
    }
   ],
   "source": [
    "# reshape\n",
    "x_train = x_train.reshape(-1, 784)\n",
    "x_test = x_test.reshape(-1, 784)\n",
    "x_pred = x_pred.reshape(-1, 784)\n",
    "print(x_train.shape, x_test.shape, x_pred.shape)"
   ]
  },
  {
   "cell_type": "code",
   "execution_count": 18,
   "metadata": {},
   "outputs": [],
   "source": [
    "from tensorflow.keras.layers import Input, Dense, Flatten\n",
    "from tensorflow.keras.models import Model\n",
    "\n",
    "# Input 레이어는 텐서를 반환합니다\n",
    "inputs = Input(shape=(784,))\n",
    "\n",
    "# 레이어 인스턴스는 텐서에 대해 호출 가능하고, 텐서를 반환합니다\n",
    "x = Dense(64, activation='relu')(inputs)\n",
    "predictions = Dense(10, activation='softmax')(x)\n",
    "\n",
    "# 이는 Input 레이어와 3개의 Dense 레이어를 포함하는 모델을 만들어 냅니다\n",
    "model4 = Model(inputs=inputs, outputs=predictions)\n",
    "\n",
    "# 모델 컴파일\n",
    "model4.compile(optimizer='rmsprop',\n",
    "            loss='sparse_categorical_crossentropy',\n",
    "            metrics=['accuracy'])"
   ]
  },
  {
   "cell_type": "code",
   "execution_count": 19,
   "metadata": {},
   "outputs": [
    {
     "name": "stdout",
     "output_type": "stream",
     "text": [
      "Model: \"model\"\n",
      "_________________________________________________________________\n",
      "Layer (type)                 Output Shape              Param #   \n",
      "=================================================================\n",
      "input_1 (InputLayer)         [(None, 784)]             0         \n",
      "_________________________________________________________________\n",
      "dense_2 (Dense)              (None, 64)                50240     \n",
      "_________________________________________________________________\n",
      "dense_3 (Dense)              (None, 10)                650       \n",
      "=================================================================\n",
      "Total params: 50,890\n",
      "Trainable params: 50,890\n",
      "Non-trainable params: 0\n",
      "_________________________________________________________________\n"
     ]
    }
   ],
   "source": [
    "model4.summary()"
   ]
  },
  {
   "cell_type": "markdown",
   "metadata": {},
   "source": [
    "# 4. Keras 시각화"
   ]
  },
  {
   "cell_type": "code",
   "execution_count": 20,
   "metadata": {
    "scrolled": true
   },
   "outputs": [
    {
     "name": "stdout",
     "output_type": "stream",
     "text": [
      "Epoch 1/20\n",
      "2813/2813 [==============================] - 4s 1ms/step - loss: 0.3049 - accuracy: 0.9126 - val_loss: 0.1820 - val_accuracy: 0.9479\n",
      "Epoch 2/20\n",
      "2813/2813 [==============================] - 3s 1ms/step - loss: 0.1599 - accuracy: 0.9539 - val_loss: 0.1542 - val_accuracy: 0.9595\n",
      "Epoch 3/20\n",
      "2813/2813 [==============================] - 4s 1ms/step - loss: 0.1238 - accuracy: 0.9650 - val_loss: 0.1469 - val_accuracy: 0.9597\n",
      "Epoch 4/20\n",
      "2813/2813 [==============================] - 3s 1ms/step - loss: 0.1063 - accuracy: 0.9708 - val_loss: 0.1583 - val_accuracy: 0.9582\n",
      "Epoch 5/20\n",
      "2813/2813 [==============================] - 3s 1ms/step - loss: 0.0950 - accuracy: 0.9743 - val_loss: 0.1508 - val_accuracy: 0.9626\n",
      "Epoch 6/20\n",
      "2813/2813 [==============================] - 3s 1ms/step - loss: 0.0869 - accuracy: 0.9774 - val_loss: 0.1462 - val_accuracy: 0.9651\n",
      "Epoch 7/20\n",
      "2813/2813 [==============================] - 3s 1ms/step - loss: 0.0801 - accuracy: 0.9796 - val_loss: 0.1477 - val_accuracy: 0.9658\n",
      "Epoch 8/20\n",
      "2813/2813 [==============================] - 3s 1ms/step - loss: 0.0735 - accuracy: 0.9819 - val_loss: 0.1513 - val_accuracy: 0.9661\n",
      "Epoch 9/20\n",
      "2813/2813 [==============================] - 3s 1ms/step - loss: 0.0697 - accuracy: 0.9835 - val_loss: 0.1519 - val_accuracy: 0.9678\n",
      "Epoch 10/20\n",
      "2813/2813 [==============================] - 3s 1ms/step - loss: 0.0640 - accuracy: 0.9846 - val_loss: 0.1668 - val_accuracy: 0.9659\n",
      "Epoch 11/20\n",
      "2813/2813 [==============================] - 4s 1ms/step - loss: 0.0608 - accuracy: 0.9854 - val_loss: 0.1606 - val_accuracy: 0.9664\n",
      "Epoch 12/20\n",
      "2813/2813 [==============================] - 4s 1ms/step - loss: 0.0564 - accuracy: 0.9860 - val_loss: 0.1655 - val_accuracy: 0.9677\n",
      "Epoch 13/20\n",
      "2813/2813 [==============================] - 5s 2ms/step - loss: 0.0545 - accuracy: 0.9872 - val_loss: 0.1636 - val_accuracy: 0.9691\n",
      "Epoch 14/20\n",
      "2813/2813 [==============================] - 4s 1ms/step - loss: 0.0520 - accuracy: 0.9884 - val_loss: 0.1792 - val_accuracy: 0.9669\n",
      "Epoch 15/20\n",
      "2813/2813 [==============================] - 3s 1ms/step - loss: 0.0491 - accuracy: 0.9888 - val_loss: 0.1983 - val_accuracy: 0.9657\n",
      "Epoch 16/20\n",
      "2813/2813 [==============================] - 4s 2ms/step - loss: 0.0474 - accuracy: 0.9892 - val_loss: 0.1859 - val_accuracy: 0.9691\n",
      "Epoch 17/20\n",
      "2813/2813 [==============================] - 4s 2ms/step - loss: 0.0460 - accuracy: 0.9896 - val_loss: 0.1920 - val_accuracy: 0.9672\n",
      "Epoch 18/20\n",
      "2813/2813 [==============================] - 4s 1ms/step - loss: 0.0441 - accuracy: 0.9907 - val_loss: 0.1987 - val_accuracy: 0.9679\n",
      "Epoch 19/20\n",
      "2813/2813 [==============================] - 3s 1ms/step - loss: 0.0411 - accuracy: 0.9906 - val_loss: 0.2173 - val_accuracy: 0.9657\n",
      "Epoch 20/20\n",
      "2813/2813 [==============================] - 3s 1ms/step - loss: 0.0401 - accuracy: 0.9915 - val_loss: 0.2140 - val_accuracy: 0.9656\n"
     ]
    }
   ],
   "source": [
    "# 학습 데이터 중 일부를 Validation Data로 분리하여 검증을 함께 수행 합니다.\n",
    "# 모델/레이어 생성 및 컴파일 명령 수행 후 아래의 명령을 수행 합니다.\n",
    "history = model4.fit(x_train, y_train, validation_split=0.25, epochs=20, batch_size=16, verbose=1)"
   ]
  },
  {
   "cell_type": "code",
   "execution_count": 23,
   "metadata": {},
   "outputs": [
    {
     "data": {
      "text/plain": [
       "dict_keys(['loss', 'accuracy', 'val_loss', 'val_accuracy'])"
      ]
     },
     "execution_count": 23,
     "metadata": {},
     "output_type": "execute_result"
    }
   ],
   "source": [
    "# history 객체의 key가 버전에 따라 다를 수 있음(아래 명령으로 key 확인)\n",
    "history.history.keys()"
   ]
  },
  {
   "cell_type": "code",
   "execution_count": 24,
   "metadata": {},
   "outputs": [
    {
     "data": {
      "image/png": "[encoded data removed]",
      "text/plain": [
       "<Figure size 432x288 with 1 Axes>"
      ]
     },
     "metadata": {
      "needs_background": "light"
     },
     "output_type": "display_data"
    },
    {
     "data": {
      "image/png": "[encoded data removed]",
      "text/plain": [
       "<Figure size 432x288 with 1 Axes>"
      ]
     },
     "metadata": {
      "needs_background": "light"
     },
     "output_type": "display_data"
    }
   ],
   "source": [
    "import matplotlib.pyplot as plt\n",
    "\n",
    "# 학습 정확성 값과 검증 정확성 값을 플롯팅 합니다. \n",
    "plt.plot(history.history['accuracy'])\n",
    "plt.plot(history.history['val_accuracy'])\n",
    "plt.title('Model accuracy')\n",
    "plt.ylabel('Accuracy')\n",
    "plt.xlabel('Epoch')\n",
    "plt.legend(['Train', 'Test'], loc='upper left')\n",
    "plt.show()\n",
    "\n",
    "# 학습 손실 값과 검증 손실 값을 플롯팅 합니다.\n",
    "plt.plot(history.history['loss'])\n",
    "plt.plot(history.history['val_loss'])\n",
    "plt.title('Model loss')\n",
    "plt.ylabel('Loss')\n",
    "plt.xlabel('Epoch')\n",
    "plt.legend(['Train', 'Test'], loc='upper left')\n",
    "plt.show()"
   ]
  },
  {
   "cell_type": "code",
   "execution_count": null,
   "metadata": {},
   "outputs": [],
   "source": []
  }
 ],
 "metadata": {
  "kernelspec": {
   "display_name": "Python 3",
   "language": "python",
   "name": "python3"
  },
  "language_info": {
   "codemirror_mode": {
    "name": "ipython",
    "version": 3
   },
   "file_extension": ".py",
   "mimetype": "text/x-python",
   "name": "python",
   "nbconvert_exporter": "python",
   "pygments_lexer": "ipython3",
   "version": "3.6.8"
  },
  "latex_envs": {
   "LaTeX_envs_menu_present": true,
   "autoclose": false,
   "autocomplete": true,
   "bibliofile": "biblio.bib",
   "cite_by": "apalike",
   "current_citInitial": 1,
   "eqLabelWithNumbers": true,
   "eqNumInitial": 1,
   "hotkeys": {
    "equation": "Ctrl-E",
    "itemize": "Ctrl-I"
   },
   "labels_anchors": false,
   "latex_user_defs": false,
   "report_style_numbering": false,
   "user_envs_cfg": false
  },
  "toc": {
   "base_numbering": 1,
   "nav_menu": {},
   "number_sections": false,
   "sideBar": true,
   "skip_h1_title": false,
   "title_cell": "Table of Contents",
   "title_sidebar": "Contents",
   "toc_cell": true,
   "toc_position": {},
   "toc_section_display": true,
   "toc_window_display": false
  }
 },
 "nbformat": 4,
 "nbformat_minor": 4
}
