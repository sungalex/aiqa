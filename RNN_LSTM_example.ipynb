{
 "cells": [
  {
   "cell_type": "markdown",
   "metadata": {
    "toc": true
   },
   "source": [
    "<h1>Table of Contents<span class=\"tocSkip\"></span></h1>\n",
    "<div class=\"toc\"><ul class=\"toc-item\"><li><span><a href=\"#CNN-Review\" data-toc-modified-id=\"CNN-Review-1\">CNN Review</a></span></li><li><span><a href=\"#RNN-&amp;-LSTM\" data-toc-modified-id=\"RNN-&amp;-LSTM-2\">RNN &amp; LSTM</a></span></li><li><span><a href=\"#LSTM-주식가격-예측\" data-toc-modified-id=\"LSTM-주식가격-예측-3\">LSTM 주식가격 예측</a></span></li><li><span><a href=\"#Bidrectional\" data-toc-modified-id=\"Bidrectional-4\">Bidrectional</a></span></li><li><span><a href=\"#다음-문자-예측\" data-toc-modified-id=\"다음-문자-예측-5\">다음 문자 예측</a></span></li><li><span><a href=\"#Embedding-(영화-리뷰-데이터)\" data-toc-modified-id=\"Embedding-(영화-리뷰-데이터)-6\">Embedding (영화 리뷰 데이터)</a></span></li></ul></div>"
   ]
  },
  {
   "cell_type": "markdown",
   "metadata": {
    "colab_type": "text",
    "id": "eRTZBqVKq_fL"
   },
   "source": [
    "# CNN Review"
   ]
  },
  {
   "cell_type": "code",
   "execution_count": 2,
   "metadata": {
    "colab": {
     "base_uri": "https://localhost:8080/",
     "height": 64
    },
    "colab_type": "code",
    "executionInfo": {
     "elapsed": 2960,
     "status": "ok",
     "timestamp": 1578876507409,
     "user": {
      "displayName": "이성식",
      "photoUrl": "",
      "userId": "14835492147461659891"
     },
     "user_tz": -540
    },
    "id": "zen5H0Q2Widh",
    "outputId": "6fd48214-f09c-4a94-d10a-33e635b67e46"
   },
   "outputs": [
    {
     "data": {
      "text/plain": [
       "'1.13.1'"
      ]
     },
     "execution_count": 2,
     "metadata": {},
     "output_type": "execute_result"
    }
   ],
   "source": [
    "import tensorflow as tf\n",
    "tf.__version__"
   ]
  },
  {
   "cell_type": "code",
   "execution_count": 3,
   "metadata": {
    "colab": {
     "base_uri": "https://localhost:8080/",
     "height": 71
    },
    "colab_type": "code",
    "executionInfo": {
     "elapsed": 827,
     "status": "ok",
     "timestamp": 1578877751441,
     "user": {
      "displayName": "이성식",
      "photoUrl": "",
      "userId": "14835492147461659891"
     },
     "user_tz": -540
    },
    "id": "KmtXteQ1X2XQ",
    "outputId": "98aeaa58-3fce-403d-aa89-7b4760585dae"
   },
   "outputs": [
    {
     "name": "stdout",
     "output_type": "stream",
     "text": [
      "(60000, 28, 28) (60000,)\n",
      "(60000, 784) (60000, 10)\n",
      "(60000, 10) (10000, 10)\n"
     ]
    }
   ],
   "source": [
    "(x_train, y_train), (x_test, y_test) = tf.keras.datasets.mnist.load_data()\n",
    "print(x_train.shape, y_train.shape)\n",
    "\n",
    "# one-hot encoding : categorical data(범주형 데이터) 변환\n",
    "# 데이터의 차원은 데이터의 변수의 수를 의미\n",
    "x_train = x_train.reshape(-1, 784)\n",
    "x_test = x_test.reshape(-1, 784)\n",
    "\n",
    "y_train = tf.keras.utils.to_categorical(y_train)\n",
    "y_test = tf.keras.utils.to_categorical(y_test)\n",
    "\n",
    "print(x_train.shape, y_train.shape)\n",
    "print(y_train.shape, y_test.shape)"
   ]
  },
  {
   "cell_type": "code",
   "execution_count": 4,
   "metadata": {
    "colab": {},
    "colab_type": "code",
    "id": "sZtHF99jX_hd"
   },
   "outputs": [
    {
     "name": "stdout",
     "output_type": "stream",
     "text": [
      "WARNING:tensorflow:From C:\\ProgramData\\Anaconda3\\lib\\site-packages\\tensorflow\\python\\ops\\resource_variable_ops.py:435: colocate_with (from tensorflow.python.framework.ops) is deprecated and will be removed in a future version.\n",
      "Instructions for updating:\n",
      "Colocations handled automatically by placer.\n"
     ]
    }
   ],
   "source": [
    "X = tf.keras.layers.Input(shape=(784,))\n",
    "net = tf.keras.layers.Dense(64)(X)\n",
    "net = tf.keras.layers.Activation('relu')(net)\n",
    "net = tf.keras.layers.Dense(10)(net)\n",
    "Y = tf.keras.layers.Activation('softmax')(net)\n",
    "\n",
    "model = tf.keras.models.Model(X, Y)\n",
    "model.compile(\n",
    "    optimizer='adam',\n",
    "    loss='categorical_crossentropy',\n",
    "    metrics=['accuracy']\n",
    ")"
   ]
  },
  {
   "cell_type": "code",
   "execution_count": 5,
   "metadata": {
    "colab": {
     "base_uri": "https://localhost:8080/",
     "height": 341
    },
    "colab_type": "code",
    "executionInfo": {
     "elapsed": 565,
     "status": "ok",
     "timestamp": 1578879762285,
     "user": {
      "displayName": "이성식",
      "photoUrl": "",
      "userId": "14835492147461659891"
     },
     "user_tz": -540
    },
    "id": "JIOqddCvddE3",
    "outputId": "702ced8b-5265-47f5-e982-6f8494ec0ef1"
   },
   "outputs": [
    {
     "name": "stdout",
     "output_type": "stream",
     "text": [
      "_________________________________________________________________\n",
      "Layer (type)                 Output Shape              Param #   \n",
      "=================================================================\n",
      "input_1 (InputLayer)         (None, 784)               0         \n",
      "_________________________________________________________________\n",
      "dense (Dense)                (None, 64)                50240     \n",
      "_________________________________________________________________\n",
      "activation (Activation)      (None, 64)                0         \n",
      "_________________________________________________________________\n",
      "dense_1 (Dense)              (None, 10)                650       \n",
      "_________________________________________________________________\n",
      "activation_1 (Activation)    (None, 10)                0         \n",
      "=================================================================\n",
      "Total params: 50,890\n",
      "Trainable params: 50,890\n",
      "Non-trainable params: 0\n",
      "_________________________________________________________________\n"
     ]
    }
   ],
   "source": [
    "model.summary()"
   ]
  },
  {
   "cell_type": "code",
   "execution_count": 6,
   "metadata": {
    "colab": {
     "base_uri": "https://localhost:8080/",
     "height": 413
    },
    "colab_type": "code",
    "executionInfo": {
     "elapsed": 9855,
     "status": "ok",
     "timestamp": 1578879827706,
     "user": {
      "displayName": "이성식",
      "photoUrl": "",
      "userId": "14835492147461659891"
     },
     "user_tz": -540
    },
    "id": "jnTZzeajdmZ2",
    "outputId": "9faca87c-4c19-4488-e430-f68a39212546"
   },
   "outputs": [
    {
     "name": "stdout",
     "output_type": "stream",
     "text": [
      "WARNING:tensorflow:From C:\\ProgramData\\Anaconda3\\lib\\site-packages\\tensorflow\\python\\ops\\math_ops.py:3066: to_int32 (from tensorflow.python.ops.math_ops) is deprecated and will be removed in a future version.\n",
      "Instructions for updating:\n",
      "Use tf.cast instead.\n",
      "Epoch 1/10\n",
      "60000/60000 [==============================] - 1s 16us/sample - loss: 8.4963 - acc: 0.4665\n",
      "Epoch 2/10\n",
      "60000/60000 [==============================] - 1s 15us/sample - loss: 7.4817 - acc: 0.5324\n",
      "Epoch 3/10\n",
      "60000/60000 [==============================] - 1s 14us/sample - loss: 7.2822 - acc: 0.5455\n",
      "Epoch 4/10\n",
      "60000/60000 [==============================] - 1s 14us/sample - loss: 5.0356 - acc: 0.6836\n",
      "Epoch 5/10\n",
      "60000/60000 [==============================] - 1s 14us/sample - loss: 3.9873 - acc: 0.7494\n",
      "Epoch 6/10\n",
      "60000/60000 [==============================] - 1s 13us/sample - loss: 3.8821 - acc: 0.7562\n",
      "Epoch 7/10\n",
      "60000/60000 [==============================] - 1s 14us/sample - loss: 3.8197 - acc: 0.7604\n",
      "Epoch 8/10\n",
      "60000/60000 [==============================] - 1s 14us/sample - loss: 3.7753 - acc: 0.7635\n",
      "Epoch 9/10\n",
      "60000/60000 [==============================] - 1s 16us/sample - loss: 3.7821 - acc: 0.7630\n",
      "Epoch 10/10\n",
      "60000/60000 [==============================] - 1s 15us/sample - loss: 2.5269 - acc: 0.8404\n"
     ]
    },
    {
     "data": {
      "text/plain": [
       "<tensorflow.python.keras.callbacks.History at 0x29e6664cdc8>"
      ]
     },
     "execution_count": 6,
     "metadata": {},
     "output_type": "execute_result"
    }
   ],
   "source": [
    "model.fit(x_train, y_train, epochs=10, batch_size=256)"
   ]
  },
  {
   "cell_type": "code",
   "execution_count": 7,
   "metadata": {
    "colab": {
     "base_uri": "https://localhost:8080/",
     "height": 53
    },
    "colab_type": "code",
    "executionInfo": {
     "elapsed": 827,
     "status": "ok",
     "timestamp": 1578879832904,
     "user": {
      "displayName": "이성식",
      "photoUrl": "",
      "userId": "14835492147461659891"
     },
     "user_tz": -540
    },
    "id": "H-7E6xtOdtUe",
    "outputId": "f65bc6a8-1f84-45bf-ce20-b8df61d686e1"
   },
   "outputs": [
    {
     "name": "stdout",
     "output_type": "stream",
     "text": [
      "10000/10000 [==============================] - 0s 37us/sample - loss: 2.2703 - acc: 0.8570\n"
     ]
    },
    {
     "data": {
      "text/plain": [
       "[2.2703229776382448, 0.857]"
      ]
     },
     "execution_count": 7,
     "metadata": {},
     "output_type": "execute_result"
    }
   ],
   "source": [
    "model.evaluate(x_test, y_test)"
   ]
  },
  {
   "cell_type": "markdown",
   "metadata": {
    "colab_type": "text",
    "id": "7rLZYDdHq7ai"
   },
   "source": [
    "# RNN & LSTM"
   ]
  },
  {
   "cell_type": "markdown",
   "metadata": {},
   "source": [
    "### RNN MNIST"
   ]
  },
  {
   "cell_type": "code",
   "execution_count": 8,
   "metadata": {
    "colab": {
     "base_uri": "https://localhost:8080/",
     "height": 35
    },
    "colab_type": "code",
    "executionInfo": {
     "elapsed": 1128,
     "status": "ok",
     "timestamp": 1578882051695,
     "user": {
      "displayName": "이성식",
      "photoUrl": "",
      "userId": "14835492147461659891"
     },
     "user_tz": -540
    },
    "id": "7EcZ_A6qi93E",
    "outputId": "429a62b8-15e0-43b4-a9dc-90a7c97bd002"
   },
   "outputs": [
    {
     "name": "stdout",
     "output_type": "stream",
     "text": [
      "(60000, 28, 28) (60000,)\n"
     ]
    }
   ],
   "source": [
    "(x_train, y_train), (x_test, y_test) = tf.keras.datasets.mnist.load_data()\n",
    "print(x_train.shape, y_train.shape)\n",
    "\n",
    "x_train = x_train / 255.\n",
    "x_test = x_test / 255.\n",
    "\n",
    "y_train = tf.keras.utils.to_categorical(y_train)\n",
    "y_test = tf.keras.utils.to_categorical(y_test)"
   ]
  },
  {
   "cell_type": "code",
   "execution_count": 9,
   "metadata": {
    "colab": {},
    "colab_type": "code",
    "id": "YL6_hz_7q4e8"
   },
   "outputs": [],
   "source": [
    "# cell = tf.keras.layers.SimpleRNNCell(32)\n",
    "cell = tf.keras.layers.LSTMCell(32)\n",
    "\n",
    "X = tf.keras.layers.Input(shape=(28,28))\n",
    "net = tf.keras.layers.RNN(cell)(X)\n",
    "net = tf.keras.layers.Dense(10)(net)\n",
    "Y = tf.keras.layers.Activation('softmax')(net)\n",
    "\n",
    "model = tf.keras.models.Model(X, Y)\n",
    "model.compile(\n",
    "    optimizer='adam',\n",
    "    loss='categorical_crossentropy',\n",
    "    metrics=['accuracy']\n",
    ")"
   ]
  },
  {
   "cell_type": "code",
   "execution_count": 10,
   "metadata": {
    "colab": {
     "base_uri": "https://localhost:8080/",
     "height": 305
    },
    "colab_type": "code",
    "executionInfo": {
     "elapsed": 575,
     "status": "ok",
     "timestamp": 1578882139604,
     "user": {
      "displayName": "이성식",
      "photoUrl": "",
      "userId": "14835492147461659891"
     },
     "user_tz": -540
    },
    "id": "ST97odHzsjQj",
    "outputId": "e10b3b15-e1c6-4a94-866c-bf038223e344"
   },
   "outputs": [
    {
     "name": "stdout",
     "output_type": "stream",
     "text": [
      "_________________________________________________________________\n",
      "Layer (type)                 Output Shape              Param #   \n",
      "=================================================================\n",
      "input_2 (InputLayer)         (None, 28, 28)            0         \n",
      "_________________________________________________________________\n",
      "rnn (RNN)                    (None, 32)                7808      \n",
      "_________________________________________________________________\n",
      "dense_2 (Dense)              (None, 10)                330       \n",
      "_________________________________________________________________\n",
      "activation_2 (Activation)    (None, 10)                0         \n",
      "=================================================================\n",
      "Total params: 8,138\n",
      "Trainable params: 8,138\n",
      "Non-trainable params: 0\n",
      "_________________________________________________________________\n"
     ]
    }
   ],
   "source": [
    "model.summary()"
   ]
  },
  {
   "cell_type": "code",
   "execution_count": 11,
   "metadata": {
    "colab": {
     "base_uri": "https://localhost:8080/",
     "height": 467
    },
    "colab_type": "code",
    "executionInfo": {
     "elapsed": 92677,
     "status": "ok",
     "timestamp": 1578882233618,
     "user": {
      "displayName": "이성식",
      "photoUrl": "",
      "userId": "14835492147461659891"
     },
     "user_tz": -540
    },
    "id": "lp6kPXcJssba",
    "outputId": "779fe96f-be72-4310-8609-600c724226e9"
   },
   "outputs": [
    {
     "name": "stdout",
     "output_type": "stream",
     "text": [
      "Epoch 1/10\n",
      "60000/60000 [==============================] - 9s 142us/sample - loss: 1.3054 - acc: 0.5905\n",
      "Epoch 2/10\n",
      "60000/60000 [==============================] - 8s 130us/sample - loss: 0.4307 - acc: 0.8764\n",
      "Epoch 3/10\n",
      "60000/60000 [==============================] - 9s 156us/sample - loss: 0.2744 - acc: 0.9228\n",
      "Epoch 4/10\n",
      "60000/60000 [==============================] - 9s 145us/sample - loss: 0.2156 - acc: 0.9389\n",
      "Epoch 5/10\n",
      "60000/60000 [==============================] - 8s 128us/sample - loss: 0.1794 - acc: 0.9499s - loss: 0.1809 - ac - ETA: 0s - loss: 0.1790 - acc: \n",
      "Epoch 6/10\n",
      "60000/60000 [==============================] - 8s 140us/sample - loss: 0.1590 - acc: 0.9547\n",
      "Epoch 7/10\n",
      "60000/60000 [==============================] - 9s 152us/sample - loss: 0.1434 - acc: 0.9592\n",
      "Epoch 8/10\n",
      "60000/60000 [==============================] - 7s 118us/sample - loss: 0.1275 - acc: 0.9634\n",
      "Epoch 9/10\n",
      "60000/60000 [==============================] - 8s 126us/sample - loss: 0.1171 - acc: 0.9661\n",
      "Epoch 10/10\n",
      "60000/60000 [==============================] - 8s 125us/sample - loss: 0.1091 - acc: 0.9681\n"
     ]
    },
    {
     "data": {
      "text/plain": [
       "<tensorflow.python.keras.callbacks.History at 0x29e62c8fa88>"
      ]
     },
     "execution_count": 11,
     "metadata": {},
     "output_type": "execute_result"
    }
   ],
   "source": [
    "model.fit(x_train, y_train, epochs=10, batch_size=256)"
   ]
  },
  {
   "cell_type": "code",
   "execution_count": 12,
   "metadata": {
    "colab": {
     "base_uri": "https://localhost:8080/",
     "height": 53
    },
    "colab_type": "code",
    "executionInfo": {
     "elapsed": 1262,
     "status": "ok",
     "timestamp": 1578882086378,
     "user": {
      "displayName": "이성식",
      "photoUrl": "",
      "userId": "14835492147461659891"
     },
     "user_tz": -540
    },
    "id": "u9vK82cmswQi",
    "outputId": "9981cfea-0dcc-4fcc-ddef-34d3e15d686a"
   },
   "outputs": [
    {
     "name": "stdout",
     "output_type": "stream",
     "text": [
      "10000/10000 [==============================] - 1s 143us/sample - loss: 0.1045 - acc: 0.9701\n"
     ]
    },
    {
     "data": {
      "text/plain": [
       "[0.10454955465942621, 0.9701]"
      ]
     },
     "execution_count": 12,
     "metadata": {},
     "output_type": "execute_result"
    }
   ],
   "source": [
    "model.evaluate(x_test, y_test)"
   ]
  },
  {
   "cell_type": "markdown",
   "metadata": {},
   "source": [
    "### LSTM MNIST"
   ]
  },
  {
   "cell_type": "code",
   "execution_count": 13,
   "metadata": {
    "colab": {
     "base_uri": "https://localhost:8080/",
     "height": 71
    },
    "colab_type": "code",
    "executionInfo": {
     "elapsed": 814,
     "status": "ok",
     "timestamp": 1578888986578,
     "user": {
      "displayName": "이성식",
      "photoUrl": "",
      "userId": "14835492147461659891"
     },
     "user_tz": -540
    },
    "id": "pY8qoBu7EEd6",
    "outputId": "c2060dbd-d7ff-4da8-f7d2-3f2bcb918f95"
   },
   "outputs": [
    {
     "name": "stdout",
     "output_type": "stream",
     "text": [
      "(60000, 28, 28) (60000,)\n",
      "(60000, 28, 28) (60000, 10)\n",
      "(10000, 28, 28) (10000, 10)\n"
     ]
    }
   ],
   "source": [
    "(x_train, y_train), (x_test, y_test) = tf.keras.datasets.mnist.load_data()\n",
    "print(x_train.shape, y_train.shape)\n",
    "\n",
    "# minmax normalize\n",
    "x_train = x_train / 255.\n",
    "x_test = x_test / 255.\n",
    "\n",
    "# one-hot encoding\n",
    "y_train = tf.keras.utils.to_categorical(y_train)\n",
    "y_test = tf.keras.utils.to_categorical(y_test)\n",
    "\n",
    "print(x_train.shape, y_train.shape)\n",
    "print(x_test.shape, y_test.shape)"
   ]
  },
  {
   "cell_type": "code",
   "execution_count": 14,
   "metadata": {
    "colab": {},
    "colab_type": "code",
    "id": "km92x9mTEoZ_"
   },
   "outputs": [],
   "source": [
    "# cell = tf.keras.layers.SimpleRNNCell(64)\n",
    "cell = tf.keras.layers.LSTMCell(64)\n",
    "\n",
    "X = tf.keras.layers.Input(shape=(28,28))\n",
    "net = tf.keras.layers.RNN(cell)(X)\n",
    "net = tf.keras.layers.Dense(10)(net)\n",
    "Y = tf.keras.layers.Activation('softmax')(net)\n",
    "\n",
    "model = tf.keras.models.Model(X, Y)\n",
    "model.compile(\n",
    "    optimizer='adam',\n",
    "    loss='categorical_crossentropy',\n",
    "    metrics=['accuracy']\n",
    ")"
   ]
  },
  {
   "cell_type": "code",
   "execution_count": 15,
   "metadata": {
    "colab": {
     "base_uri": "https://localhost:8080/",
     "height": 305
    },
    "colab_type": "code",
    "executionInfo": {
     "elapsed": 588,
     "status": "ok",
     "timestamp": 1578891873164,
     "user": {
      "displayName": "이성식",
      "photoUrl": "",
      "userId": "14835492147461659891"
     },
     "user_tz": -540
    },
    "id": "id9niETQFdqP",
    "outputId": "8ac4aa8c-fe80-4c8a-83fb-a24d19983489"
   },
   "outputs": [
    {
     "name": "stdout",
     "output_type": "stream",
     "text": [
      "_________________________________________________________________\n",
      "Layer (type)                 Output Shape              Param #   \n",
      "=================================================================\n",
      "input_3 (InputLayer)         (None, 28, 28)            0         \n",
      "_________________________________________________________________\n",
      "rnn_1 (RNN)                  (None, 64)                23808     \n",
      "_________________________________________________________________\n",
      "dense_3 (Dense)              (None, 10)                650       \n",
      "_________________________________________________________________\n",
      "activation_3 (Activation)    (None, 10)                0         \n",
      "=================================================================\n",
      "Total params: 24,458\n",
      "Trainable params: 24,458\n",
      "Non-trainable params: 0\n",
      "_________________________________________________________________\n"
     ]
    }
   ],
   "source": [
    "model.summary()"
   ]
  },
  {
   "cell_type": "code",
   "execution_count": 16,
   "metadata": {
    "colab": {
     "base_uri": "https://localhost:8080/",
     "height": 413
    },
    "colab_type": "code",
    "executionInfo": {
     "elapsed": 158986,
     "status": "ok",
     "timestamp": 1578892033221,
     "user": {
      "displayName": "이성식",
      "photoUrl": "",
      "userId": "14835492147461659891"
     },
     "user_tz": -540
    },
    "id": "yRfESER_Fjlf",
    "outputId": "5c76fa6c-6b87-4c65-99a0-e5e71daf4ec7"
   },
   "outputs": [
    {
     "name": "stdout",
     "output_type": "stream",
     "text": [
      "Epoch 1/10\n",
      "60000/60000 [==============================] - 11s 191us/sample - loss: 0.9727 - acc: 0.6886 - loss\n",
      "Epoch 2/10\n",
      "60000/60000 [==============================] - 12s 196us/sample - loss: 0.2750 - acc: 0.9189 - loss: 0.2781 - \n",
      "Epoch 3/10\n",
      "60000/60000 [==============================] - 12s 193us/sample - loss: 0.1871 - acc: 0.9452 - loss: 0.1887\n",
      "Epoch 4/10\n",
      "60000/60000 [==============================] - 13s 212us/sample - loss: 0.1462 - acc: 0.9565 - loss\n",
      "Epoch 5/10\n",
      "60000/60000 [==============================] - 14s 227us/sample - loss: 0.1201 - acc: 0.9646 - loss: 0.1201 - \n",
      "Epoch 6/10\n",
      "60000/60000 [==============================] - 12s 199us/sample - loss: 0.1087 - acc: 0.9679\n",
      "Epoch 7/10\n",
      "60000/60000 [==============================] - 11s 183us/sample - loss: 0.0921 - acc: 0.9731\n",
      "Epoch 8/10\n",
      "60000/60000 [==============================] - 14s 240us/sample - loss: 0.0814 - acc: 0.9760\n",
      "Epoch 9/10\n",
      "60000/60000 [==============================] - 15s 253us/sample - loss: 0.0746 - acc: 0.9776\n",
      "Epoch 10/10\n",
      "60000/60000 [==============================] - 16s 259us/sample - loss: 0.0681 - acc: 0.9793\n"
     ]
    },
    {
     "data": {
      "text/plain": [
       "<tensorflow.python.keras.callbacks.History at 0x29e1b529a88>"
      ]
     },
     "execution_count": 16,
     "metadata": {},
     "output_type": "execute_result"
    }
   ],
   "source": [
    "model.fit(x_train, y_train, epochs=10, batch_size=256)"
   ]
  },
  {
   "cell_type": "code",
   "execution_count": 17,
   "metadata": {},
   "outputs": [
    {
     "name": "stdout",
     "output_type": "stream",
     "text": [
      "10000/10000 [==============================] - 3s 279us/sample - loss: 0.0768 - acc: 0.9765\n"
     ]
    },
    {
     "data": {
      "text/plain": [
       "[0.07682504710964859, 0.9765]"
      ]
     },
     "execution_count": 17,
     "metadata": {},
     "output_type": "execute_result"
    }
   ],
   "source": [
    "model.evaluate(x_test, y_test)"
   ]
  },
  {
   "cell_type": "markdown",
   "metadata": {
    "colab_type": "text",
    "id": "PFF4IRLTYa_s"
   },
   "source": [
    "# LSTM 주식가격 예측"
   ]
  },
  {
   "cell_type": "code",
   "execution_count": 18,
   "metadata": {
    "colab": {},
    "colab_type": "code",
    "id": "1MWO_UO_IU4v"
   },
   "outputs": [],
   "source": [
    "import pandas as pd"
   ]
  },
  {
   "cell_type": "code",
   "execution_count": 19,
   "metadata": {
    "colab": {
     "base_uri": "https://localhost:8080/",
     "height": 222
    },
    "colab_type": "code",
    "executionInfo": {
     "elapsed": 571,
     "status": "ok",
     "timestamp": 1578894515513,
     "user": {
      "displayName": "이성식",
      "photoUrl": "",
      "userId": "14835492147461659891"
     },
     "user_tz": -540
    },
    "id": "ZQp26er7WpFa",
    "outputId": "49d84096-d97f-41b1-d647-2f0c46bbb48e"
   },
   "outputs": [
    {
     "name": "stdout",
     "output_type": "stream",
     "text": [
      "(732, 5)\n"
     ]
    },
    {
     "data": {
      "text/html": [
       "<div>\n",
       "<style scoped>\n",
       "    .dataframe tbody tr th:only-of-type {\n",
       "        vertical-align: middle;\n",
       "    }\n",
       "\n",
       "    .dataframe tbody tr th {\n",
       "        vertical-align: top;\n",
       "    }\n",
       "\n",
       "    .dataframe thead th {\n",
       "        text-align: right;\n",
       "    }\n",
       "</style>\n",
       "<table border=\"1\" class=\"dataframe\">\n",
       "  <thead>\n",
       "    <tr style=\"text-align: right;\">\n",
       "      <th></th>\n",
       "      <th># Open</th>\n",
       "      <th>High</th>\n",
       "      <th>Low</th>\n",
       "      <th>Volume</th>\n",
       "      <th>Close</th>\n",
       "    </tr>\n",
       "  </thead>\n",
       "  <tbody>\n",
       "    <tr>\n",
       "      <th>727</th>\n",
       "      <td>0.306974</td>\n",
       "      <td>0.314634</td>\n",
       "      <td>0.218994</td>\n",
       "      <td>0.012476</td>\n",
       "      <td>0.216982</td>\n",
       "    </tr>\n",
       "    <tr>\n",
       "      <th>728</th>\n",
       "      <td>0.186679</td>\n",
       "      <td>0.209481</td>\n",
       "      <td>0.208782</td>\n",
       "      <td>0.000000</td>\n",
       "      <td>0.217448</td>\n",
       "    </tr>\n",
       "    <tr>\n",
       "      <th>729</th>\n",
       "      <td>0.210516</td>\n",
       "      <td>0.205289</td>\n",
       "      <td>0.203559</td>\n",
       "      <td>0.000260</td>\n",
       "      <td>0.187750</td>\n",
       "    </tr>\n",
       "    <tr>\n",
       "      <th>730</th>\n",
       "      <td>0.193935</td>\n",
       "      <td>0.203642</td>\n",
       "      <td>0.208665</td>\n",
       "      <td>0.002985</td>\n",
       "      <td>0.196552</td>\n",
       "    </tr>\n",
       "    <tr>\n",
       "      <th>731</th>\n",
       "      <td>0.213751</td>\n",
       "      <td>0.208180</td>\n",
       "      <td>0.191792</td>\n",
       "      <td>0.000466</td>\n",
       "      <td>0.192092</td>\n",
       "    </tr>\n",
       "  </tbody>\n",
       "</table>\n",
       "</div>"
      ],
      "text/plain": [
       "       # Open      High       Low    Volume     Close\n",
       "727  0.306974  0.314634  0.218994  0.012476  0.216982\n",
       "728  0.186679  0.209481  0.208782  0.000000  0.217448\n",
       "729  0.210516  0.205289  0.203559  0.000260  0.187750\n",
       "730  0.193935  0.203642  0.208665  0.002985  0.196552\n",
       "731  0.213751  0.208180  0.191792  0.000466  0.192092"
      ]
     },
     "execution_count": 19,
     "metadata": {},
     "output_type": "execute_result"
    }
   ],
   "source": [
    "dataset = pd.read_csv(\"https://raw.githubusercontent.com/blackdew/DeepLearningZeroToAll/master/data-02-stock_daily.csv\", skiprows=1)\n",
    "dataset.head()\n",
    "print(dataset.shape)\n",
    "\n",
    "# minmax norm\n",
    "data_norm = (dataset - dataset.min(axis=0)) / (dataset.max(axis=0) - dataset.min(axis=0))\n",
    "data_norm.tail()"
   ]
  },
  {
   "cell_type": "code",
   "execution_count": 20,
   "metadata": {},
   "outputs": [
    {
     "data": {
      "text/html": [
       "<div>\n",
       "<style scoped>\n",
       "    .dataframe tbody tr th:only-of-type {\n",
       "        vertical-align: middle;\n",
       "    }\n",
       "\n",
       "    .dataframe tbody tr th {\n",
       "        vertical-align: top;\n",
       "    }\n",
       "\n",
       "    .dataframe thead th {\n",
       "        text-align: right;\n",
       "    }\n",
       "</style>\n",
       "<table border=\"1\" class=\"dataframe\">\n",
       "  <thead>\n",
       "    <tr style=\"text-align: right;\">\n",
       "      <th></th>\n",
       "      <th># Open</th>\n",
       "      <th>High</th>\n",
       "      <th>Low</th>\n",
       "      <th>Volume</th>\n",
       "      <th>Close</th>\n",
       "    </tr>\n",
       "  </thead>\n",
       "  <tbody>\n",
       "    <tr>\n",
       "      <th>0</th>\n",
       "      <td>828.659973</td>\n",
       "      <td>833.450012</td>\n",
       "      <td>828.349976</td>\n",
       "      <td>1247700</td>\n",
       "      <td>831.659973</td>\n",
       "    </tr>\n",
       "    <tr>\n",
       "      <th>1</th>\n",
       "      <td>823.020020</td>\n",
       "      <td>828.070007</td>\n",
       "      <td>821.655029</td>\n",
       "      <td>1597800</td>\n",
       "      <td>828.070007</td>\n",
       "    </tr>\n",
       "    <tr>\n",
       "      <th>2</th>\n",
       "      <td>819.929993</td>\n",
       "      <td>824.400024</td>\n",
       "      <td>818.979980</td>\n",
       "      <td>1281700</td>\n",
       "      <td>824.159973</td>\n",
       "    </tr>\n",
       "    <tr>\n",
       "      <th>3</th>\n",
       "      <td>819.359985</td>\n",
       "      <td>823.000000</td>\n",
       "      <td>818.469971</td>\n",
       "      <td>1304000</td>\n",
       "      <td>818.979980</td>\n",
       "    </tr>\n",
       "    <tr>\n",
       "      <th>4</th>\n",
       "      <td>819.000000</td>\n",
       "      <td>823.000000</td>\n",
       "      <td>816.000000</td>\n",
       "      <td>1053600</td>\n",
       "      <td>820.450012</td>\n",
       "    </tr>\n",
       "    <tr>\n",
       "      <th>...</th>\n",
       "      <td>...</td>\n",
       "      <td>...</td>\n",
       "      <td>...</td>\n",
       "      <td>...</td>\n",
       "      <td>...</td>\n",
       "    </tr>\n",
       "    <tr>\n",
       "      <th>727</th>\n",
       "      <td>599.992707</td>\n",
       "      <td>604.832763</td>\n",
       "      <td>562.192568</td>\n",
       "      <td>147100</td>\n",
       "      <td>567.002574</td>\n",
       "    </tr>\n",
       "    <tr>\n",
       "      <th>728</th>\n",
       "      <td>558.712504</td>\n",
       "      <td>568.452595</td>\n",
       "      <td>558.712504</td>\n",
       "      <td>7900</td>\n",
       "      <td>567.162558</td>\n",
       "    </tr>\n",
       "    <tr>\n",
       "      <th>729</th>\n",
       "      <td>566.892592</td>\n",
       "      <td>567.002574</td>\n",
       "      <td>556.932537</td>\n",
       "      <td>10800</td>\n",
       "      <td>556.972503</td>\n",
       "    </tr>\n",
       "    <tr>\n",
       "      <th>730</th>\n",
       "      <td>561.202549</td>\n",
       "      <td>566.432590</td>\n",
       "      <td>558.672539</td>\n",
       "      <td>41200</td>\n",
       "      <td>559.992565</td>\n",
       "    </tr>\n",
       "    <tr>\n",
       "      <th>731</th>\n",
       "      <td>568.002570</td>\n",
       "      <td>568.002570</td>\n",
       "      <td>552.922516</td>\n",
       "      <td>13100</td>\n",
       "      <td>558.462551</td>\n",
       "    </tr>\n",
       "  </tbody>\n",
       "</table>\n",
       "<p>732 rows × 5 columns</p>\n",
       "</div>"
      ],
      "text/plain": [
       "         # Open        High         Low   Volume       Close\n",
       "0    828.659973  833.450012  828.349976  1247700  831.659973\n",
       "1    823.020020  828.070007  821.655029  1597800  828.070007\n",
       "2    819.929993  824.400024  818.979980  1281700  824.159973\n",
       "3    819.359985  823.000000  818.469971  1304000  818.979980\n",
       "4    819.000000  823.000000  816.000000  1053600  820.450012\n",
       "..          ...         ...         ...      ...         ...\n",
       "727  599.992707  604.832763  562.192568   147100  567.002574\n",
       "728  558.712504  568.452595  558.712504     7900  567.162558\n",
       "729  566.892592  567.002574  556.932537    10800  556.972503\n",
       "730  561.202549  566.432590  558.672539    41200  559.992565\n",
       "731  568.002570  568.002570  552.922516    13100  558.462551\n",
       "\n",
       "[732 rows x 5 columns]"
      ]
     },
     "execution_count": 20,
     "metadata": {},
     "output_type": "execute_result"
    }
   ],
   "source": [
    "dataset"
   ]
  },
  {
   "cell_type": "code",
   "execution_count": 21,
   "metadata": {
    "scrolled": true
   },
   "outputs": [],
   "source": [
    "data_norm_df = data_norm"
   ]
  },
  {
   "cell_type": "code",
   "execution_count": 22,
   "metadata": {
    "colab": {
     "base_uri": "https://localhost:8080/",
     "height": 215
    },
    "colab_type": "code",
    "executionInfo": {
     "elapsed": 576,
     "status": "ok",
     "timestamp": 1578894518116,
     "user": {
      "displayName": "이성식",
      "photoUrl": "",
      "userId": "14835492147461659891"
     },
     "user_tz": -540
    },
    "id": "viaDdSqyKcmZ",
    "outputId": "214b8b74-b119-4e79-e45a-fb8e585841cb"
   },
   "outputs": [
    {
     "data": {
      "text/plain": [
       "array([[2.13751054e-01, 2.08179810e-01, 1.91791832e-01, 4.66075110e-04,\n",
       "        1.92092403e-01],\n",
       "       [1.93935034e-01, 2.03641926e-01, 2.08664571e-01, 2.98467330e-03,\n",
       "        1.96551555e-01],\n",
       "       [2.10516454e-01, 2.05289413e-01, 2.03558748e-01, 2.59926504e-04,\n",
       "        1.87749731e-01],\n",
       "       [1.86678765e-01, 2.09480567e-01, 2.08781843e-01, 0.00000000e+00,\n",
       "        2.17448151e-01],\n",
       "       [3.06973882e-01, 3.14634137e-01, 2.18993665e-01, 1.24764722e-02,\n",
       "        2.16981885e-01]])"
      ]
     },
     "execution_count": 22,
     "metadata": {},
     "output_type": "execute_result"
    }
   ],
   "source": [
    "data_norm = data_norm.values[::-1]  # array reverse\n",
    "\n",
    "data_norm[:5]"
   ]
  },
  {
   "cell_type": "markdown",
   "metadata": {
    "colab_type": "text",
    "id": "6V2zXnaBT3YK"
   },
   "source": [
    "axis는 shape의 인덱스 순번과 동일함(sum, min, max 등을 연산하면 axis로 지정한 인덱스의 원소가 1개가 됨) <br>\n",
    "shape가 (732, 5) 일때, axis=0은 732개의 행을 1개로 만듦. axis=1은 5개의 열을 1개로 만듦"
   ]
  },
  {
   "cell_type": "code",
   "execution_count": 23,
   "metadata": {
    "colab": {
     "base_uri": "https://localhost:8080/",
     "height": 53
    },
    "colab_type": "code",
    "executionInfo": {
     "elapsed": 587,
     "status": "ok",
     "timestamp": 1578894522870,
     "user": {
      "displayName": "이성식",
      "photoUrl": "",
      "userId": "14835492147461659891"
     },
     "user_tz": -540
    },
    "id": "RlUZux9PSzkZ",
    "outputId": "eaa94831-aab7-4e31-c49f-f7c63c2c703a"
   },
   "outputs": [
    {
     "name": "stdout",
     "output_type": "stream",
     "text": [
      "(725, 7, 5)\n",
      "(725,)\n"
     ]
    }
   ],
   "source": [
    "import numpy as np\n",
    "\n",
    "# x_train = []\n",
    "# for i in range(len(data_norm) - 7):\n",
    "#     x_train.append(data_norm[i:i+7])\n",
    "\n",
    "# 과거 7일간의 주가로 그 다음날의 주가를 예측하기 위한 데이터 전처리\n",
    "x_train = np.array([data_norm[i:i+7] for i in range(len(data_norm) - 7)])\n",
    "\n",
    "x_train = np.array(x_train)\n",
    "print(x_train.shape)\n",
    "\n",
    "y_train = []\n",
    "y_train = np.array([data_norm[i+7, -1] for i in range(len(data_norm) - 7)])\n",
    "print(y_train.shape)"
   ]
  },
  {
   "cell_type": "code",
   "execution_count": 24,
   "metadata": {
    "colab": {
     "base_uri": "https://localhost:8080/",
     "height": 53
    },
    "colab_type": "code",
    "executionInfo": {
     "elapsed": 549,
     "status": "ok",
     "timestamp": 1578894577461,
     "user": {
      "displayName": "이성식",
      "photoUrl": "",
      "userId": "14835492147461659891"
     },
     "user_tz": -540
    },
    "id": "gdWxGdXRVsvj",
    "outputId": "3b7694f1-c1d2-473e-d5b4-30a635f68f62"
   },
   "outputs": [
    {
     "name": "stdout",
     "output_type": "stream",
     "text": [
      "(525, 7, 5) (525,)\n",
      "(200, 7, 5) (200,)\n"
     ]
    }
   ],
   "source": [
    "x_test, x_train = x_train[-200:], x_train[:-200]\n",
    "y_test, y_train = y_train[-200:], y_train[:-200]\n",
    "\n",
    "print(x_train.shape, y_train.shape)\n",
    "print(x_test.shape, y_test.shape)"
   ]
  },
  {
   "cell_type": "code",
   "execution_count": 25,
   "metadata": {
    "colab": {},
    "colab_type": "code",
    "id": "CZE31kVcZQei"
   },
   "outputs": [
    {
     "name": "stdout",
     "output_type": "stream",
     "text": [
      "WARNING:tensorflow:From C:\\ProgramData\\Anaconda3\\lib\\site-packages\\tensorflow\\python\\keras\\utils\\losses_utils.py:170: to_float (from tensorflow.python.ops.math_ops) is deprecated and will be removed in a future version.\n",
      "Instructions for updating:\n",
      "Use tf.cast instead.\n"
     ]
    }
   ],
   "source": [
    "cell = tf.keras.layers.LSTMCell(64)\n",
    "\n",
    "X = tf.keras.layers.Input(shape=(7,5))\n",
    "net = tf.keras.layers.RNN(cell)(X)\n",
    "Y = tf.keras.layers.Dense(1)(net)   # 회귀이기 때문에 1개의 값을 결과로 가짐\n",
    "\n",
    "model = tf.keras.models.Model(X, Y)\n",
    "model.compile(\n",
    "    optimizer='adam',\n",
    "    loss='mse'    # 회귀에는 loss 함수로 mse 사용\n",
    ")"
   ]
  },
  {
   "cell_type": "code",
   "execution_count": 26,
   "metadata": {
    "colab": {
     "base_uri": "https://localhost:8080/",
     "height": 269
    },
    "colab_type": "code",
    "executionInfo": {
     "elapsed": 724,
     "status": "ok",
     "timestamp": 1578894819349,
     "user": {
      "displayName": "이성식",
      "photoUrl": "",
      "userId": "14835492147461659891"
     },
     "user_tz": -540
    },
    "id": "l46ZLwXJaOTq",
    "outputId": "cebf0e28-a9b9-413d-eddd-a4b56a572dd2"
   },
   "outputs": [
    {
     "name": "stdout",
     "output_type": "stream",
     "text": [
      "_________________________________________________________________\n",
      "Layer (type)                 Output Shape              Param #   \n",
      "=================================================================\n",
      "input_4 (InputLayer)         (None, 7, 5)              0         \n",
      "_________________________________________________________________\n",
      "rnn_2 (RNN)                  (None, 64)                17920     \n",
      "_________________________________________________________________\n",
      "dense_4 (Dense)              (None, 1)                 65        \n",
      "=================================================================\n",
      "Total params: 17,985\n",
      "Trainable params: 17,985\n",
      "Non-trainable params: 0\n",
      "_________________________________________________________________\n"
     ]
    }
   ],
   "source": [
    "model.summary()"
   ]
  },
  {
   "cell_type": "code",
   "execution_count": 27,
   "metadata": {
    "colab": {
     "base_uri": "https://localhost:8080/",
     "height": 1000
    },
    "colab_type": "code",
    "executionInfo": {
     "elapsed": 9254,
     "status": "ok",
     "timestamp": 1578894846241,
     "user": {
      "displayName": "이성식",
      "photoUrl": "",
      "userId": "14835492147461659891"
     },
     "user_tz": -540
    },
    "id": "8CI_gSUGaQZa",
    "outputId": "7c12d2a7-b5a1-4e2e-e287-c67e08ee4dd5",
    "scrolled": true
   },
   "outputs": [
    {
     "name": "stdout",
     "output_type": "stream",
     "text": [
      "Epoch 1/50\n",
      "525/525 [==============================] - 1s 2ms/sample - loss: 0.1200\n",
      "Epoch 2/50\n",
      "525/525 [==============================] - 0s 172us/sample - loss: 0.0115\n",
      "Epoch 3/50\n",
      "525/525 [==============================] - 0s 171us/sample - loss: 0.0050\n",
      "Epoch 4/50\n",
      "525/525 [==============================] - 0s 194us/sample - loss: 0.0033\n",
      "Epoch 5/50\n",
      "525/525 [==============================] - 0s 215us/sample - loss: 0.0029\n",
      "Epoch 6/50\n",
      "525/525 [==============================] - 0s 199us/sample - loss: 0.0028\n",
      "Epoch 7/50\n",
      "525/525 [==============================] - 0s 205us/sample - loss: 0.0027\n",
      "Epoch 8/50\n",
      "525/525 [==============================] - 0s 180us/sample - loss: 0.0027\n",
      "Epoch 9/50\n",
      "525/525 [==============================] - 0s 199us/sample - loss: 0.0027\n",
      "Epoch 10/50\n",
      "525/525 [==============================] - 0s 180us/sample - loss: 0.0026\n",
      "Epoch 11/50\n",
      "525/525 [==============================] - 0s 234us/sample - loss: 0.0026\n",
      "Epoch 12/50\n",
      "525/525 [==============================] - 0s 180us/sample - loss: 0.0026\n",
      "Epoch 13/50\n",
      "525/525 [==============================] - 0s 165us/sample - loss: 0.0027\n",
      "Epoch 14/50\n",
      "525/525 [==============================] - 0s 165us/sample - loss: 0.0026\n",
      "Epoch 15/50\n",
      "525/525 [==============================] - 0s 177us/sample - loss: 0.0025\n",
      "Epoch 16/50\n",
      "525/525 [==============================] - 0s 163us/sample - loss: 0.0024\n",
      "Epoch 17/50\n",
      "525/525 [==============================] - 0s 171us/sample - loss: 0.0024\n",
      "Epoch 18/50\n",
      "525/525 [==============================] - 0s 192us/sample - loss: 0.0025\n",
      "Epoch 19/50\n",
      "525/525 [==============================] - 0s 177us/sample - loss: 0.0024\n",
      "Epoch 20/50\n",
      "525/525 [==============================] - 0s 173us/sample - loss: 0.0023\n",
      "Epoch 21/50\n",
      "525/525 [==============================] - 0s 179us/sample - loss: 0.0023\n",
      "Epoch 22/50\n",
      "525/525 [==============================] - 0s 220us/sample - loss: 0.0024\n",
      "Epoch 23/50\n",
      "525/525 [==============================] - 0s 215us/sample - loss: 0.0023\n",
      "Epoch 24/50\n",
      "525/525 [==============================] - 0s 179us/sample - loss: 0.0024\n",
      "Epoch 25/50\n",
      "525/525 [==============================] - 0s 180us/sample - loss: 0.0022\n",
      "Epoch 26/50\n",
      "525/525 [==============================] - 0s 182us/sample - loss: 0.0022\n",
      "Epoch 27/50\n",
      "525/525 [==============================] - 0s 190us/sample - loss: 0.0021\n",
      "Epoch 28/50\n",
      "525/525 [==============================] - 0s 175us/sample - loss: 0.0021\n",
      "Epoch 29/50\n",
      "525/525 [==============================] - 0s 207us/sample - loss: 0.0021\n",
      "Epoch 30/50\n",
      "525/525 [==============================] - 0s 201us/sample - loss: 0.0021\n",
      "Epoch 31/50\n",
      "525/525 [==============================] - 0s 161us/sample - loss: 0.0020\n",
      "Epoch 32/50\n",
      "525/525 [==============================] - 0s 161us/sample - loss: 0.0020\n",
      "Epoch 33/50\n",
      "525/525 [==============================] - 0s 171us/sample - loss: 0.0021\n",
      "Epoch 34/50\n",
      "525/525 [==============================] - 0s 163us/sample - loss: 0.0020\n",
      "Epoch 35/50\n",
      "525/525 [==============================] - 0s 160us/sample - loss: 0.0019\n",
      "Epoch 36/50\n",
      "525/525 [==============================] - 0s 158us/sample - loss: 0.0019\n",
      "Epoch 37/50\n",
      "525/525 [==============================] - 0s 169us/sample - loss: 0.0020\n",
      "Epoch 38/50\n",
      "525/525 [==============================] - 0s 158us/sample - loss: 0.0019\n",
      "Epoch 39/50\n",
      "525/525 [==============================] - 0s 165us/sample - loss: 0.0019\n",
      "Epoch 40/50\n",
      "525/525 [==============================] - 0s 163us/sample - loss: 0.0018\n",
      "Epoch 41/50\n",
      "525/525 [==============================] - 0s 175us/sample - loss: 0.0018\n",
      "Epoch 42/50\n",
      "525/525 [==============================] - 0s 167us/sample - loss: 0.0018\n",
      "Epoch 43/50\n",
      "525/525 [==============================] - 0s 171us/sample - loss: 0.0018\n",
      "Epoch 44/50\n",
      "525/525 [==============================] - 0s 169us/sample - loss: 0.0017\n",
      "Epoch 45/50\n",
      "525/525 [==============================] - 0s 156us/sample - loss: 0.0017\n",
      "Epoch 46/50\n",
      "525/525 [==============================] - 0s 171us/sample - loss: 0.0017\n",
      "Epoch 47/50\n",
      "525/525 [==============================] - 0s 173us/sample - loss: 0.0017\n",
      "Epoch 48/50\n",
      "525/525 [==============================] - 0s 169us/sample - loss: 0.0016\n",
      "Epoch 49/50\n",
      "525/525 [==============================] - 0s 161us/sample - loss: 0.0016\n",
      "Epoch 50/50\n",
      "525/525 [==============================] - 0s 171us/sample - loss: 0.0016\n"
     ]
    },
    {
     "data": {
      "text/plain": [
       "<tensorflow.python.keras.callbacks.History at 0x29e00efb8c8>"
      ]
     },
     "execution_count": 27,
     "metadata": {},
     "output_type": "execute_result"
    }
   ],
   "source": [
    "model.fit(x_train, y_train, epochs=50)"
   ]
  },
  {
   "cell_type": "code",
   "execution_count": 28,
   "metadata": {
    "colab": {
     "base_uri": "https://localhost:8080/",
     "height": 265
    },
    "colab_type": "code",
    "executionInfo": {
     "elapsed": 1620,
     "status": "ok",
     "timestamp": 1578894853004,
     "user": {
      "displayName": "이성식",
      "photoUrl": "",
      "userId": "14835492147461659891"
     },
     "user_tz": -540
    },
    "id": "RCMFgkROaaha",
    "outputId": "ab64a93e-72a2-416f-cd87-916342c62ea5"
   },
   "outputs": [
    {
     "data": {
      "image/png": "[encoded data removed]",
      "text/plain": [
       "<Figure size 432x288 with 1 Axes>"
      ]
     },
     "metadata": {
      "needs_background": "light"
     },
     "output_type": "display_data"
    }
   ],
   "source": [
    "import matplotlib.pyplot as plt\n",
    "\n",
    "y_pred = model.predict(x_test)\n",
    "\n",
    "plt.plot(y_test)\n",
    "plt.plot(y_pred)\n",
    "plt.legend(['pred', 'real'])\n",
    "plt.show()"
   ]
  },
  {
   "cell_type": "markdown",
   "metadata": {
    "colab_type": "text",
    "id": "buzYEhw3gkH_"
   },
   "source": [
    "# Bidrectional"
   ]
  },
  {
   "cell_type": "code",
   "execution_count": 29,
   "metadata": {
    "colab": {
     "base_uri": "https://localhost:8080/",
     "height": 179
    },
    "colab_type": "code",
    "executionInfo": {
     "elapsed": 754,
     "status": "ok",
     "timestamp": 1578895692034,
     "user": {
      "displayName": "이성식",
      "photoUrl": "",
      "userId": "14835492147461659891"
     },
     "user_tz": -540
    },
    "id": "rbk7s8xDcU32",
    "outputId": "df010de2-9480-47e7-cdb2-d0f739e8f0c7"
   },
   "outputs": [],
   "source": [
    "cell = tf.keras.layers.LSTMCell(32)\n",
    "lstm = tf.keras.layers.RNN(cell)\n",
    "\n",
    "X = tf.keras.layers.Input(shape=(7,5))\n",
    "net = tf.keras.layers.Bidirectional(lstm)(X)\n",
    "Y = tf.keras.layers.Dense(1)(net)\n",
    "\n",
    "model2 = tf.keras.models.Model(X, Y)\n",
    "model2.compile(\n",
    "    optimizer='adam',\n",
    "    loss='mse'\n",
    ")"
   ]
  },
  {
   "cell_type": "code",
   "execution_count": 30,
   "metadata": {
    "colab": {
     "base_uri": "https://localhost:8080/",
     "height": 269
    },
    "colab_type": "code",
    "executionInfo": {
     "elapsed": 620,
     "status": "ok",
     "timestamp": 1578895718595,
     "user": {
      "displayName": "이성식",
      "photoUrl": "",
      "userId": "14835492147461659891"
     },
     "user_tz": -540
    },
    "id": "UXG8J1TwhE2j",
    "outputId": "285f5909-ca28-4f63-c3f1-5c3edb725e9a"
   },
   "outputs": [
    {
     "name": "stdout",
     "output_type": "stream",
     "text": [
      "_________________________________________________________________\n",
      "Layer (type)                 Output Shape              Param #   \n",
      "=================================================================\n",
      "input_5 (InputLayer)         (None, 7, 5)              0         \n",
      "_________________________________________________________________\n",
      "bidirectional (Bidirectional (None, 64)                9728      \n",
      "_________________________________________________________________\n",
      "dense_5 (Dense)              (None, 1)                 65        \n",
      "=================================================================\n",
      "Total params: 9,793\n",
      "Trainable params: 9,793\n",
      "Non-trainable params: 0\n",
      "_________________________________________________________________\n"
     ]
    }
   ],
   "source": [
    "model2.summary()"
   ]
  },
  {
   "cell_type": "code",
   "execution_count": 31,
   "metadata": {
    "colab": {
     "base_uri": "https://localhost:8080/",
     "height": 1000
    },
    "colab_type": "code",
    "executionInfo": {
     "elapsed": 11707,
     "status": "ok",
     "timestamp": 1578895812674,
     "user": {
      "displayName": "이성식",
      "photoUrl": "",
      "userId": "14835492147461659891"
     },
     "user_tz": -540
    },
    "id": "rONAtlr1hGiz",
    "outputId": "b3015260-a2d5-4041-e614-0a0d0dc1f49e",
    "scrolled": true
   },
   "outputs": [
    {
     "name": "stdout",
     "output_type": "stream",
     "text": [
      "Epoch 1/50\n",
      "525/525 [==============================] - 2s 3ms/sample - loss: 0.0929\n",
      "Epoch 2/50\n",
      "525/525 [==============================] - 0s 190us/sample - loss: 0.0133\n",
      "Epoch 3/50\n",
      "525/525 [==============================] - 0s 199us/sample - loss: 0.0055\n",
      "Epoch 4/50\n",
      "525/525 [==============================] - 0s 194us/sample - loss: 0.0033\n",
      "Epoch 5/50\n",
      "525/525 [==============================] - 0s 182us/sample - loss: 0.0027\n",
      "Epoch 6/50\n",
      "525/525 [==============================] - 0s 230us/sample - loss: 0.0026\n",
      "Epoch 7/50\n",
      "525/525 [==============================] - 0s 262us/sample - loss: 0.0025\n",
      "Epoch 8/50\n",
      "525/525 [==============================] - 0s 230us/sample - loss: 0.0025\n",
      "Epoch 9/50\n",
      "525/525 [==============================] - 0s 184us/sample - loss: 0.0025\n",
      "Epoch 10/50\n",
      "525/525 [==============================] - 0s 186us/sample - loss: 0.0025\n",
      "Epoch 11/50\n",
      "525/525 [==============================] - 0s 199us/sample - loss: 0.0024\n",
      "Epoch 12/50\n",
      "525/525 [==============================] - 0s 167us/sample - loss: 0.0024\n",
      "Epoch 13/50\n",
      "525/525 [==============================] - 0s 180us/sample - loss: 0.0024\n",
      "Epoch 14/50\n",
      "525/525 [==============================] - 0s 173us/sample - loss: 0.0023\n",
      "Epoch 15/50\n",
      "525/525 [==============================] - 0s 177us/sample - loss: 0.0023\n",
      "Epoch 16/50\n",
      "525/525 [==============================] - 0s 173us/sample - loss: 0.0023\n",
      "Epoch 17/50\n",
      "525/525 [==============================] - 0s 173us/sample - loss: 0.0023\n",
      "Epoch 18/50\n",
      "525/525 [==============================] - 0s 177us/sample - loss: 0.0023\n",
      "Epoch 19/50\n",
      "525/525 [==============================] - 0s 207us/sample - loss: 0.0023\n",
      "Epoch 20/50\n",
      "525/525 [==============================] - 0s 236us/sample - loss: 0.0023\n",
      "Epoch 21/50\n",
      "525/525 [==============================] - 0s 201us/sample - loss: 0.0021\n",
      "Epoch 22/50\n",
      "525/525 [==============================] - 0s 209us/sample - loss: 0.0021\n",
      "Epoch 23/50\n",
      "525/525 [==============================] - 0s 192us/sample - loss: 0.0021\n",
      "Epoch 24/50\n",
      "525/525 [==============================] - 0s 188us/sample - loss: 0.0020\n",
      "Epoch 25/50\n",
      "525/525 [==============================] - 0s 205us/sample - loss: 0.0020\n",
      "Epoch 26/50\n",
      "525/525 [==============================] - 0s 180us/sample - loss: 0.0020\n",
      "Epoch 27/50\n",
      "525/525 [==============================] - 0s 161us/sample - loss: 0.0020\n",
      "Epoch 28/50\n",
      "525/525 [==============================] - 0s 171us/sample - loss: 0.0020\n",
      "Epoch 29/50\n",
      "525/525 [==============================] - 0s 171us/sample - loss: 0.0019\n",
      "Epoch 30/50\n",
      "525/525 [==============================] - 0s 171us/sample - loss: 0.0019\n",
      "Epoch 31/50\n",
      "525/525 [==============================] - 0s 177us/sample - loss: 0.0019\n",
      "Epoch 32/50\n",
      "525/525 [==============================] - 0s 182us/sample - loss: 0.0018\n",
      "Epoch 33/50\n",
      "525/525 [==============================] - 0s 203us/sample - loss: 0.0018\n",
      "Epoch 34/50\n",
      "525/525 [==============================] - 0s 230us/sample - loss: 0.0017\n",
      "Epoch 35/50\n",
      "525/525 [==============================] - 0s 264us/sample - loss: 0.0017\n",
      "Epoch 36/50\n",
      "525/525 [==============================] - 0s 253us/sample - loss: 0.0017\n",
      "Epoch 37/50\n",
      "525/525 [==============================] - 0s 232us/sample - loss: 0.0018\n",
      "Epoch 38/50\n",
      "525/525 [==============================] - 0s 220us/sample - loss: 0.0016\n",
      "Epoch 39/50\n",
      "525/525 [==============================] - 0s 228us/sample - loss: 0.0016\n",
      "Epoch 40/50\n",
      "525/525 [==============================] - 0s 251us/sample - loss: 0.0016\n",
      "Epoch 41/50\n",
      "525/525 [==============================] - 0s 372us/sample - loss: 0.0016\n",
      "Epoch 42/50\n",
      "525/525 [==============================] - 0s 243us/sample - loss: 0.0016\n",
      "Epoch 43/50\n",
      "525/525 [==============================] - 0s 275us/sample - loss: 0.0015\n",
      "Epoch 44/50\n",
      "525/525 [==============================] - 0s 336us/sample - loss: 0.0015\n",
      "Epoch 45/50\n",
      "525/525 [==============================] - 0s 277us/sample - loss: 0.0016\n",
      "Epoch 46/50\n",
      "525/525 [==============================] - 0s 236us/sample - loss: 0.0015\n",
      "Epoch 47/50\n",
      "525/525 [==============================] - 0s 386us/sample - loss: 0.0015\n",
      "Epoch 48/50\n",
      "525/525 [==============================] - 0s 323us/sample - loss: 0.0014\n",
      "Epoch 49/50\n",
      "525/525 [==============================] - 0s 338us/sample - loss: 0.0015\n",
      "Epoch 50/50\n",
      "525/525 [==============================] - 0s 344us/sample - loss: 0.0016\n"
     ]
    },
    {
     "data": {
      "text/plain": [
       "<tensorflow.python.keras.callbacks.History at 0x29e04368a08>"
      ]
     },
     "execution_count": 31,
     "metadata": {},
     "output_type": "execute_result"
    }
   ],
   "source": [
    "model2.fit(x_train, y_train, epochs=50)"
   ]
  },
  {
   "cell_type": "code",
   "execution_count": 32,
   "metadata": {},
   "outputs": [
    {
     "data": {
      "image/png": "[encoded data removed]",
      "text/plain": [
       "<Figure size 432x288 with 1 Axes>"
      ]
     },
     "metadata": {
      "needs_background": "light"
     },
     "output_type": "display_data"
    }
   ],
   "source": [
    "y_pred = model2.predict(x_test)\n",
    "\n",
    "plt.plot(y_test)\n",
    "plt.plot(y_pred)\n",
    "plt.legend(['pred', 'real'])\n",
    "plt.show()"
   ]
  },
  {
   "cell_type": "markdown",
   "metadata": {
    "colab_type": "text",
    "id": "Ztp66fP-ixq_"
   },
   "source": [
    "# RNN - 다음 문자 예측"
   ]
  },
  {
   "cell_type": "code",
   "execution_count": 33,
   "metadata": {
    "colab": {},
    "colab_type": "code",
    "id": "60VQN7GShVSr"
   },
   "outputs": [],
   "source": [
    "contents = \"\"\"\n",
    "여린 부리 파랑새\n",
    "사랑이라는 빛 하나 문다\n",
    "\n",
    "바람 지나는 밤낮\n",
    "나의 온기속에 그대 심장을\n",
    "그대 온기 속에 나의 심장을\n",
    "\n",
    "미소도 눈물도 두 심장\n",
    "하나의 맥박되어\n",
    "\n",
    "덤불 어지러운 미물의 제자리걸음\n",
    "빛으로 이끌어내며\n",
    "사철바람 타고 날개치는\n",
    "\n",
    "고운 부리 파랑새\n",
    "사랑이라는 빛 하나 싣고 간다\n",
    "\"\"\""
   ]
  },
  {
   "cell_type": "code",
   "execution_count": 34,
   "metadata": {
    "colab": {
     "base_uri": "https://localhost:8080/",
     "height": 91
    },
    "colab_type": "code",
    "executionInfo": {
     "elapsed": 612,
     "status": "ok",
     "timestamp": 1578896595048,
     "user": {
      "displayName": "이성식",
      "photoUrl": "",
      "userId": "14835492147461659891"
     },
     "user_tz": -540
    },
    "id": "Dqg7fxHCjN_7",
    "outputId": "22a15917-f379-4a86-9bef-5f6f3e85ea85"
   },
   "outputs": [
    {
     "name": "stdout",
     "output_type": "stream",
     "text": [
      "['불', '맥', '걸', '되', '어', '타', '박', '에', '바', '낮', '지', '는', '싣', '새', '하', '온', '파', '대', ' ', '의', '여', '치', '사', '끌', '빛', '러', '내', '\\n', '물', '장', '미', '기', '덤', '라', '운', '개', '나', '을', '간', '눈', '밤', '랑', '리', '람', '그', '자', '고', '철', '로', '도', '속', '소', '으', '제', '부', '다', '며', '두', '린', '이', '문', '날', '심', '음']\n",
      "{'불': 0, '맥': 1, '걸': 2, '되': 3, '어': 4, '타': 5, '박': 6, '에': 7, '바': 8, '낮': 9, '지': 10, '는': 11, '싣': 12, '새': 13, '하': 14, '온': 15, '파': 16, '대': 17, ' ': 18, '의': 19, '여': 20, '치': 21, '사': 22, '끌': 23, '빛': 24, '러': 25, '내': 26, '\\n': 27, '물': 28, '장': 29, '미': 30, '기': 31, '덤': 32, '라': 33, '운': 34, '개': 35, '나': 36, '을': 37, '간': 38, '눈': 39, '밤': 40, '랑': 41, '리': 42, '람': 43, '그': 44, '자': 45, '고': 46, '철': 47, '로': 48, '도': 49, '속': 50, '소': 51, '으': 52, '제': 53, '부': 54, '다': 55, '며': 56, '두': 57, '린': 58, '이': 59, '문': 60, '날': 61, '심': 62, '음': 63}\n",
      "64\n"
     ]
    }
   ],
   "source": [
    "char_set = list(set(contents))\n",
    "print(char_set)\n",
    "\n",
    "char_dic = {c: i for i, c in enumerate(char_set)}\n",
    "print(char_dic)\n",
    "\n",
    "char_len = len(char_set)\n",
    "print(char_len)"
   ]
  },
  {
   "cell_type": "code",
   "execution_count": 35,
   "metadata": {
    "colab": {
     "base_uri": "https://localhost:8080/",
     "height": 35
    },
    "colab_type": "code",
    "executionInfo": {
     "elapsed": 576,
     "status": "ok",
     "timestamp": 1578897295303,
     "user": {
      "displayName": "이성식",
      "photoUrl": "",
      "userId": "14835492147461659891"
     },
     "user_tz": -540
    },
    "id": "EtuqfqLgjeBU",
    "outputId": "3f65c4f8-5347-4a4a-dc38-2a9237877a51"
   },
   "outputs": [
    {
     "name": "stdout",
     "output_type": "stream",
     "text": [
      "(150, 10) (150, 10)\n"
     ]
    }
   ],
   "source": [
    "data = [char_dic[w] for w in contents]\n",
    "x_data = np.array([data[i:i+10] for i in range(len(data) - 10)])\n",
    "\n",
    "#import pprint\n",
    "#pprint.pprint(x_data)\n",
    "\n",
    "y_data = np.array([data[i+1:i+11] for i in range(len(data) - 10)])\n",
    "\n",
    "print(x_data.shape, y_data.shape)"
   ]
  },
  {
   "cell_type": "code",
   "execution_count": 36,
   "metadata": {},
   "outputs": [
    {
     "data": {
      "text/plain": [
       "array([[27, 20, 58, ..., 16, 41, 13],\n",
       "       [20, 58, 18, ..., 41, 13, 27],\n",
       "       [58, 18, 54, ..., 13, 27, 22],\n",
       "       ...,\n",
       "       [11, 18, 24, ..., 12, 46, 18],\n",
       "       [18, 24, 18, ..., 46, 18, 38],\n",
       "       [24, 18, 14, ..., 18, 38, 55]])"
      ]
     },
     "execution_count": 36,
     "metadata": {},
     "output_type": "execute_result"
    }
   ],
   "source": [
    "x_data"
   ]
  },
  {
   "cell_type": "code",
   "execution_count": 37,
   "metadata": {},
   "outputs": [
    {
     "data": {
      "text/plain": [
       "array([['\\n', '여', '린', ..., '파', '랑', '새'],\n",
       "       ['여', '린', ' ', ..., '랑', '새', '\\n'],\n",
       "       ['린', ' ', '부', ..., '새', '\\n', '사'],\n",
       "       ...,\n",
       "       ['는', ' ', '빛', ..., '싣', '고', ' '],\n",
       "       [' ', '빛', ' ', ..., '고', ' ', '간'],\n",
       "       ['빛', ' ', '하', ..., ' ', '간', '다']], dtype='<U1')"
      ]
     },
     "execution_count": 37,
     "metadata": {},
     "output_type": "execute_result"
    }
   ],
   "source": [
    "import numpy as np\n",
    "\n",
    "np.array(list(char_dic.keys()))[x_data]"
   ]
  },
  {
   "cell_type": "code",
   "execution_count": 38,
   "metadata": {
    "colab": {
     "base_uri": "https://localhost:8080/",
     "height": 35
    },
    "colab_type": "code",
    "executionInfo": {
     "elapsed": 562,
     "status": "ok",
     "timestamp": 1578897297008,
     "user": {
      "displayName": "이성식",
      "photoUrl": "",
      "userId": "14835492147461659891"
     },
     "user_tz": -540
    },
    "id": "w2ycwrSHkklD",
    "outputId": "a43eadbd-82ad-444a-9b21-597f57996fdc"
   },
   "outputs": [
    {
     "name": "stdout",
     "output_type": "stream",
     "text": [
      "(150, 10, 64) (150, 10, 64)\n"
     ]
    }
   ],
   "source": [
    "x_data = tf.keras.utils.to_categorical(x_data, char_len)\n",
    "y_data = tf.keras.utils.to_categorical(y_data, char_len)\n",
    "\n",
    "print(x_data.shape, y_data.shape)"
   ]
  },
  {
   "cell_type": "code",
   "execution_count": 39,
   "metadata": {
    "colab": {},
    "colab_type": "code",
    "id": "8AQDiokrmueV"
   },
   "outputs": [],
   "source": [
    "cell = tf.keras.layers.GRUCell(64)\n",
    "\n",
    "X = tf.keras.layers.Input(shape=(10, char_len))\n",
    "net = tf.keras.layers.RNN(cell, return_sequences=True)(X)   # return_sequences=True 이면 중간의 hidden_state 값도 return함(차원이 하나 더 생김)\n",
    "net = tf.keras.layers.Dense(char_len)(net)\n",
    "Y = tf.keras.layers.Activation('softmax')(net)\n",
    "\n",
    "model = tf.keras.models.Model(X, Y)\n",
    "model.compile(\n",
    "    optimizer='adam',\n",
    "    loss='categorical_crossentropy',\n",
    "    metrics=['accuracy']\n",
    ")"
   ]
  },
  {
   "cell_type": "code",
   "execution_count": 40,
   "metadata": {
    "colab": {
     "base_uri": "https://localhost:8080/",
     "height": 305
    },
    "colab_type": "code",
    "executionInfo": {
     "elapsed": 421,
     "status": "ok",
     "timestamp": 1578898107192,
     "user": {
      "displayName": "이성식",
      "photoUrl": "",
      "userId": "14835492147461659891"
     },
     "user_tz": -540
    },
    "id": "06qc5j_0oGzT",
    "outputId": "204bebeb-768b-4004-fc6e-9b6ad7735657"
   },
   "outputs": [
    {
     "name": "stdout",
     "output_type": "stream",
     "text": [
      "_________________________________________________________________\n",
      "Layer (type)                 Output Shape              Param #   \n",
      "=================================================================\n",
      "input_6 (InputLayer)         (None, 10, 64)            0         \n",
      "_________________________________________________________________\n",
      "rnn_4 (RNN)                  (None, 10, 64)            24768     \n",
      "_________________________________________________________________\n",
      "dense_6 (Dense)              (None, 10, 64)            4160      \n",
      "_________________________________________________________________\n",
      "activation_4 (Activation)    (None, 10, 64)            0         \n",
      "=================================================================\n",
      "Total params: 28,928\n",
      "Trainable params: 28,928\n",
      "Non-trainable params: 0\n",
      "_________________________________________________________________\n"
     ]
    }
   ],
   "source": [
    "model.summary()"
   ]
  },
  {
   "cell_type": "code",
   "execution_count": 41,
   "metadata": {
    "colab": {
     "base_uri": "https://localhost:8080/",
     "height": 1000
    },
    "colab_type": "code",
    "executionInfo": {
     "elapsed": 45031,
     "status": "ok",
     "timestamp": 1578898155968,
     "user": {
      "displayName": "이성식",
      "photoUrl": "",
      "userId": "14835492147461659891"
     },
     "user_tz": -540
    },
    "id": "lV1IFfPvoIVU",
    "outputId": "f408bf2e-7b54-43d2-f94b-3c320536a5aa",
    "scrolled": true
   },
   "outputs": [
    {
     "name": "stdout",
     "output_type": "stream",
     "text": [
      "WARNING:tensorflow:From C:\\ProgramData\\Anaconda3\\lib\\site-packages\\tensorflow\\python\\ops\\math_grad.py:102: div (from tensorflow.python.ops.math_ops) is deprecated and will be removed in a future version.\n",
      "Instructions for updating:\n",
      "Deprecated in favor of operator or tf.math.divide.\n",
      "Epoch 1/200\n",
      "150/150 [==============================] - 1s 4ms/sample - loss: 4.1561 - acc: 0.0180\n",
      "Epoch 2/200\n",
      "150/150 [==============================] - 0s 452us/sample - loss: 4.1241 - acc: 0.0727\n",
      "Epoch 3/200\n",
      "150/150 [==============================] - 0s 266us/sample - loss: 4.0913 - acc: 0.1573\n",
      "Epoch 4/200\n",
      "150/150 [==============================] - 0s 306us/sample - loss: 4.0566 - acc: 0.2587\n",
      "Epoch 5/200\n",
      "150/150 [==============================] - 0s 266us/sample - loss: 4.0183 - acc: 0.3047\n",
      "Epoch 6/200\n",
      "150/150 [==============================] - 0s 306us/sample - loss: 3.9730 - acc: 0.3133\n",
      "Epoch 7/200\n",
      "150/150 [==============================] - 0s 319us/sample - loss: 3.9165 - acc: 0.2900\n",
      "Epoch 8/200\n",
      "150/150 [==============================] - 0s 313us/sample - loss: 3.8401 - acc: 0.2773\n",
      "Epoch 9/200\n",
      "150/150 [==============================] - 0s 306us/sample - loss: 3.7276 - acc: 0.2507\n",
      "Epoch 10/200\n",
      "150/150 [==============================] - 0s 326us/sample - loss: 3.6181 - acc: 0.2327\n",
      "Epoch 11/200\n",
      "150/150 [==============================] - 0s 293us/sample - loss: 3.5870 - acc: 0.2407\n",
      "Epoch 12/200\n",
      "150/150 [==============================] - 0s 306us/sample - loss: 3.5177 - acc: 0.2807\n",
      "Epoch 13/200\n",
      "150/150 [==============================] - 0s 273us/sample - loss: 3.4736 - acc: 0.2933\n",
      "Epoch 14/200\n",
      "150/150 [==============================] - 0s 279us/sample - loss: 3.4174 - acc: 0.2933\n",
      "Epoch 15/200\n",
      "150/150 [==============================] - 0s 286us/sample - loss: 3.3579 - acc: 0.2933\n",
      "Epoch 16/200\n",
      "150/150 [==============================] - 0s 299us/sample - loss: 3.2954 - acc: 0.2933\n",
      "Epoch 17/200\n",
      "150/150 [==============================] - 0s 366us/sample - loss: 3.2211 - acc: 0.2960\n",
      "Epoch 18/200\n",
      "150/150 [==============================] - 0s 299us/sample - loss: 3.1422 - acc: 0.2980\n",
      "Epoch 19/200\n",
      "150/150 [==============================] - 0s 273us/sample - loss: 3.0560 - acc: 0.2960\n",
      "Epoch 20/200\n",
      "150/150 [==============================] - 0s 286us/sample - loss: 2.9681 - acc: 0.3000\n",
      "Epoch 21/200\n",
      "150/150 [==============================] - 0s 273us/sample - loss: 2.8790 - acc: 0.3080\n",
      "Epoch 22/200\n",
      "150/150 [==============================] - 0s 279us/sample - loss: 2.7871 - acc: 0.3227\n",
      "Epoch 23/200\n",
      "150/150 [==============================] - 0s 306us/sample - loss: 2.6961 - acc: 0.3413\n",
      "Epoch 24/200\n",
      "150/150 [==============================] - 0s 299us/sample - loss: 2.6034 - acc: 0.3580\n",
      "Epoch 25/200\n",
      "150/150 [==============================] - 0s 279us/sample - loss: 2.5139 - acc: 0.3707\n",
      "Epoch 26/200\n",
      "150/150 [==============================] - 0s 326us/sample - loss: 2.4273 - acc: 0.3867\n",
      "Epoch 27/200\n",
      "150/150 [==============================] - 0s 312us/sample - loss: 2.3424 - acc: 0.4133\n",
      "Epoch 28/200\n",
      "150/150 [==============================] - 0s 332us/sample - loss: 2.2567 - acc: 0.4380\n",
      "Epoch 29/200\n",
      "150/150 [==============================] - 0s 299us/sample - loss: 2.1712 - acc: 0.4660\n",
      "Epoch 30/200\n",
      "150/150 [==============================] - 0s 299us/sample - loss: 2.0856 - acc: 0.5000\n",
      "Epoch 31/200\n",
      "150/150 [==============================] - 0s 286us/sample - loss: 2.0017 - acc: 0.5253\n",
      "Epoch 32/200\n",
      "150/150 [==============================] - 0s 253us/sample - loss: 1.9196 - acc: 0.5547\n",
      "Epoch 33/200\n",
      "150/150 [==============================] - 0s 239us/sample - loss: 1.8383 - acc: 0.6020\n",
      "Epoch 34/200\n",
      "150/150 [==============================] - 0s 253us/sample - loss: 1.7600 - acc: 0.6293\n",
      "Epoch 35/200\n",
      "150/150 [==============================] - 0s 293us/sample - loss: 1.6835 - acc: 0.6600\n",
      "Epoch 36/200\n",
      "150/150 [==============================] - 0s 279us/sample - loss: 1.6116 - acc: 0.6873\n",
      "Epoch 37/200\n",
      "150/150 [==============================] - 0s 279us/sample - loss: 1.5412 - acc: 0.6967\n",
      "Epoch 38/200\n",
      "150/150 [==============================] - 0s 259us/sample - loss: 1.4733 - acc: 0.7207\n",
      "Epoch 39/200\n",
      "150/150 [==============================] - 0s 273us/sample - loss: 1.4074 - acc: 0.7453\n",
      "Epoch 40/200\n",
      "150/150 [==============================] - 0s 246us/sample - loss: 1.3459 - acc: 0.7640\n",
      "Epoch 41/200\n",
      "150/150 [==============================] - 0s 293us/sample - loss: 1.2864 - acc: 0.7833\n",
      "Epoch 42/200\n",
      "150/150 [==============================] - 0s 253us/sample - loss: 1.2279 - acc: 0.7980\n",
      "Epoch 43/200\n",
      "150/150 [==============================] - 0s 293us/sample - loss: 1.1733 - acc: 0.8140\n",
      "Epoch 44/200\n",
      "150/150 [==============================] - 0s 279us/sample - loss: 1.1220 - acc: 0.8287\n",
      "Epoch 45/200\n",
      "150/150 [==============================] - 0s 286us/sample - loss: 1.0719 - acc: 0.8440\n",
      "Epoch 46/200\n",
      "150/150 [==============================] - 0s 279us/sample - loss: 1.0253 - acc: 0.8560\n",
      "Epoch 47/200\n",
      "150/150 [==============================] - 0s 293us/sample - loss: 0.9806 - acc: 0.8620\n",
      "Epoch 48/200\n",
      "150/150 [==============================] - 0s 299us/sample - loss: 0.9385 - acc: 0.8713\n",
      "Epoch 49/200\n",
      "150/150 [==============================] - 0s 253us/sample - loss: 0.8990 - acc: 0.8820\n",
      "Epoch 50/200\n",
      "150/150 [==============================] - 0s 293us/sample - loss: 0.8611 - acc: 0.8860\n",
      "Epoch 51/200\n",
      "150/150 [==============================] - 0s 273us/sample - loss: 0.8269 - acc: 0.8893\n",
      "Epoch 52/200\n",
      "150/150 [==============================] - 0s 273us/sample - loss: 0.7932 - acc: 0.8933\n",
      "Epoch 53/200\n",
      "150/150 [==============================] - 0s 326us/sample - loss: 0.7631 - acc: 0.8980\n",
      "Epoch 54/200\n",
      "150/150 [==============================] - 0s 293us/sample - loss: 0.7347 - acc: 0.9060\n",
      "Epoch 55/200\n",
      "150/150 [==============================] - 0s 392us/sample - loss: 0.7072 - acc: 0.9113\n",
      "Epoch 56/200\n",
      "150/150 [==============================] - 0s 332us/sample - loss: 0.6823 - acc: 0.9153\n",
      "Epoch 57/200\n",
      "150/150 [==============================] - 0s 326us/sample - loss: 0.6589 - acc: 0.9173\n",
      "Epoch 58/200\n",
      "150/150 [==============================] - 0s 319us/sample - loss: 0.6365 - acc: 0.9180\n",
      "Epoch 59/200\n",
      "150/150 [==============================] - 0s 306us/sample - loss: 0.6158 - acc: 0.9200\n",
      "Epoch 60/200\n",
      "150/150 [==============================] - 0s 299us/sample - loss: 0.5967 - acc: 0.9213\n",
      "Epoch 61/200\n",
      "150/150 [==============================] - 0s 253us/sample - loss: 0.5784 - acc: 0.9227\n",
      "Epoch 62/200\n",
      "150/150 [==============================] - 0s 273us/sample - loss: 0.5610 - acc: 0.9233\n",
      "Epoch 63/200\n",
      "150/150 [==============================] - 0s 279us/sample - loss: 0.5447 - acc: 0.9247\n",
      "Epoch 64/200\n",
      "150/150 [==============================] - 0s 253us/sample - loss: 0.5296 - acc: 0.9247\n",
      "Epoch 65/200\n",
      "150/150 [==============================] - 0s 259us/sample - loss: 0.5151 - acc: 0.9247\n",
      "Epoch 66/200\n",
      "150/150 [==============================] - 0s 259us/sample - loss: 0.5017 - acc: 0.9253\n",
      "Epoch 67/200\n",
      "150/150 [==============================] - 0s 273us/sample - loss: 0.4885 - acc: 0.9273\n",
      "Epoch 68/200\n",
      "150/150 [==============================] - 0s 286us/sample - loss: 0.4769 - acc: 0.9280\n",
      "Epoch 69/200\n",
      "150/150 [==============================] - 0s 293us/sample - loss: 0.4652 - acc: 0.9300\n",
      "Epoch 70/200\n",
      "150/150 [==============================] - 0s 259us/sample - loss: 0.4545 - acc: 0.9327\n",
      "Epoch 71/200\n",
      "150/150 [==============================] - 0s 259us/sample - loss: 0.4441 - acc: 0.9327\n",
      "Epoch 72/200\n",
      "150/150 [==============================] - ETA: 0s - loss: 0.4399 - acc: 0.931 - 0s 266us/sample - loss: 0.4345 - acc: 0.9327\n",
      "Epoch 73/200\n",
      "150/150 [==============================] - 0s 233us/sample - loss: 0.4252 - acc: 0.9333\n",
      "Epoch 74/200\n",
      "150/150 [==============================] - 0s 259us/sample - loss: 0.4166 - acc: 0.9327\n",
      "Epoch 75/200\n",
      "150/150 [==============================] - 0s 266us/sample - loss: 0.4083 - acc: 0.9327\n",
      "Epoch 76/200\n",
      "150/150 [==============================] - 0s 266us/sample - loss: 0.4003 - acc: 0.9333\n",
      "Epoch 77/200\n",
      "150/150 [==============================] - 0s 259us/sample - loss: 0.3928 - acc: 0.9327\n",
      "Epoch 78/200\n",
      "150/150 [==============================] - 0s 273us/sample - loss: 0.3853 - acc: 0.9347\n",
      "Epoch 79/200\n"
     ]
    },
    {
     "name": "stdout",
     "output_type": "stream",
     "text": [
      "150/150 [==============================] - 0s 246us/sample - loss: 0.3784 - acc: 0.9340\n",
      "Epoch 80/200\n",
      "150/150 [==============================] - 0s 279us/sample - loss: 0.3719 - acc: 0.9340\n",
      "Epoch 81/200\n",
      "150/150 [==============================] - 0s 266us/sample - loss: 0.3655 - acc: 0.9360\n",
      "Epoch 82/200\n",
      "150/150 [==============================] - 0s 246us/sample - loss: 0.3595 - acc: 0.9360\n",
      "Epoch 83/200\n",
      "150/150 [==============================] - 0s 246us/sample - loss: 0.3536 - acc: 0.9360\n",
      "Epoch 84/200\n",
      "150/150 [==============================] - 0s 253us/sample - loss: 0.3481 - acc: 0.9347\n",
      "Epoch 85/200\n",
      "150/150 [==============================] - 0s 259us/sample - loss: 0.3430 - acc: 0.9333\n",
      "Epoch 86/200\n",
      "150/150 [==============================] - 0s 259us/sample - loss: 0.3380 - acc: 0.9347\n",
      "Epoch 87/200\n",
      "150/150 [==============================] - 0s 286us/sample - loss: 0.3328 - acc: 0.9367\n",
      "Epoch 88/200\n",
      "150/150 [==============================] - 0s 332us/sample - loss: 0.3281 - acc: 0.9360\n",
      "Epoch 89/200\n",
      "150/150 [==============================] - 0s 286us/sample - loss: 0.3234 - acc: 0.9373\n",
      "Epoch 90/200\n",
      "150/150 [==============================] - 0s 293us/sample - loss: 0.3190 - acc: 0.9373\n",
      "Epoch 91/200\n",
      "150/150 [==============================] - 0s 253us/sample - loss: 0.3146 - acc: 0.9373\n",
      "Epoch 92/200\n",
      "150/150 [==============================] - ETA: 0s - loss: 0.3033 - acc: 0.934 - 0s 279us/sample - loss: 0.3107 - acc: 0.9387\n",
      "Epoch 93/200\n",
      "150/150 [==============================] - 0s 273us/sample - loss: 0.3066 - acc: 0.9387\n",
      "Epoch 94/200\n",
      "150/150 [==============================] - 0s 253us/sample - loss: 0.3029 - acc: 0.9393\n",
      "Epoch 95/200\n",
      "150/150 [==============================] - 0s 266us/sample - loss: 0.2992 - acc: 0.9393\n",
      "Epoch 96/200\n",
      "150/150 [==============================] - 0s 279us/sample - loss: 0.2957 - acc: 0.9400\n",
      "Epoch 97/200\n",
      "150/150 [==============================] - 0s 253us/sample - loss: 0.2920 - acc: 0.9400\n",
      "Epoch 98/200\n",
      "150/150 [==============================] - 0s 253us/sample - loss: 0.2890 - acc: 0.9393\n",
      "Epoch 99/200\n",
      "150/150 [==============================] - 0s 253us/sample - loss: 0.2857 - acc: 0.9393\n",
      "Epoch 100/200\n",
      "150/150 [==============================] - 0s 273us/sample - loss: 0.2827 - acc: 0.9393\n",
      "Epoch 101/200\n",
      "150/150 [==============================] - 0s 253us/sample - loss: 0.2795 - acc: 0.9400\n",
      "Epoch 102/200\n",
      "150/150 [==============================] - 0s 239us/sample - loss: 0.2765 - acc: 0.9400\n",
      "Epoch 103/200\n",
      "150/150 [==============================] - 0s 246us/sample - loss: 0.2736 - acc: 0.9393\n",
      "Epoch 104/200\n",
      "150/150 [==============================] - 0s 266us/sample - loss: 0.2710 - acc: 0.9400\n",
      "Epoch 105/200\n",
      "150/150 [==============================] - 0s 246us/sample - loss: 0.2681 - acc: 0.9393\n",
      "Epoch 106/200\n",
      "150/150 [==============================] - 0s 259us/sample - loss: 0.2656 - acc: 0.9400\n",
      "Epoch 107/200\n",
      "150/150 [==============================] - 0s 273us/sample - loss: 0.2630 - acc: 0.9407\n",
      "Epoch 108/200\n",
      "150/150 [==============================] - 0s 239us/sample - loss: 0.2605 - acc: 0.9400\n",
      "Epoch 109/200\n",
      "150/150 [==============================] - 0s 253us/sample - loss: 0.2580 - acc: 0.9393\n",
      "Epoch 110/200\n",
      "150/150 [==============================] - 0s 259us/sample - loss: 0.2556 - acc: 0.9407\n",
      "Epoch 111/200\n",
      "150/150 [==============================] - 0s 259us/sample - loss: 0.2535 - acc: 0.9400\n",
      "Epoch 112/200\n",
      "150/150 [==============================] - 0s 266us/sample - loss: 0.2513 - acc: 0.9407\n",
      "Epoch 113/200\n",
      "150/150 [==============================] - 0s 259us/sample - loss: 0.2490 - acc: 0.9400\n",
      "Epoch 114/200\n",
      "150/150 [==============================] - 0s 253us/sample - loss: 0.2468 - acc: 0.9407\n",
      "Epoch 115/200\n",
      "150/150 [==============================] - 0s 266us/sample - loss: 0.2450 - acc: 0.9400\n",
      "Epoch 116/200\n",
      "150/150 [==============================] - 0s 253us/sample - loss: 0.2428 - acc: 0.9407\n",
      "Epoch 117/200\n",
      "150/150 [==============================] - 0s 259us/sample - loss: 0.2409 - acc: 0.9413\n",
      "Epoch 118/200\n",
      "150/150 [==============================] - 0s 279us/sample - loss: 0.2390 - acc: 0.9413\n",
      "Epoch 119/200\n",
      "150/150 [==============================] - 0s 253us/sample - loss: 0.2373 - acc: 0.9413\n",
      "Epoch 120/200\n",
      "150/150 [==============================] - 0s 266us/sample - loss: 0.2353 - acc: 0.9413\n",
      "Epoch 121/200\n",
      "150/150 [==============================] - 0s 253us/sample - loss: 0.2338 - acc: 0.9407\n",
      "Epoch 122/200\n",
      "150/150 [==============================] - 0s 386us/sample - loss: 0.2317 - acc: 0.9407\n",
      "Epoch 123/200\n",
      "150/150 [==============================] - 0s 273us/sample - loss: 0.2300 - acc: 0.9413\n",
      "Epoch 124/200\n",
      "150/150 [==============================] - 0s 312us/sample - loss: 0.2286 - acc: 0.9420\n",
      "Epoch 125/200\n",
      "150/150 [==============================] - 0s 319us/sample - loss: 0.2268 - acc: 0.9420\n",
      "Epoch 126/200\n",
      "150/150 [==============================] - 0s 301us/sample - loss: 0.2254 - acc: 0.9407\n",
      "Epoch 127/200\n",
      "150/150 [==============================] - 0s 326us/sample - loss: 0.2237 - acc: 0.9413\n",
      "Epoch 128/200\n",
      "150/150 [==============================] - 0s 313us/sample - loss: 0.2221 - acc: 0.9420\n",
      "Epoch 129/200\n",
      "150/150 [==============================] - 0s 372us/sample - loss: 0.2208 - acc: 0.9420\n",
      "Epoch 130/200\n",
      "150/150 [==============================] - 0s 359us/sample - loss: 0.2192 - acc: 0.9413\n",
      "Epoch 131/200\n",
      "150/150 [==============================] - 0s 419us/sample - loss: 0.2178 - acc: 0.9420\n",
      "Epoch 132/200\n",
      "150/150 [==============================] - 0s 372us/sample - loss: 0.2165 - acc: 0.9413\n",
      "Epoch 133/200\n",
      "150/150 [==============================] - 0s 346us/sample - loss: 0.2151 - acc: 0.9420\n",
      "Epoch 134/200\n",
      "150/150 [==============================] - 0s 339us/sample - loss: 0.2137 - acc: 0.9427\n",
      "Epoch 135/200\n",
      "150/150 [==============================] - 0s 319us/sample - loss: 0.2124 - acc: 0.9427\n",
      "Epoch 136/200\n",
      "150/150 [==============================] - 0s 312us/sample - loss: 0.2112 - acc: 0.9400\n",
      "Epoch 137/200\n",
      "150/150 [==============================] - 0s 293us/sample - loss: 0.2100 - acc: 0.9427\n",
      "Epoch 138/200\n",
      "150/150 [==============================] - 0s 306us/sample - loss: 0.2087 - acc: 0.9413\n",
      "Epoch 139/200\n",
      "150/150 [==============================] - 0s 299us/sample - loss: 0.2076 - acc: 0.9420\n",
      "Epoch 140/200\n",
      "150/150 [==============================] - 0s 306us/sample - loss: 0.2065 - acc: 0.9427\n",
      "Epoch 141/200\n",
      "150/150 [==============================] - 0s 306us/sample - loss: 0.2053 - acc: 0.9420\n",
      "Epoch 142/200\n",
      "150/150 [==============================] - 0s 299us/sample - loss: 0.2043 - acc: 0.9413\n",
      "Epoch 143/200\n",
      "150/150 [==============================] - 0s 319us/sample - loss: 0.2030 - acc: 0.9427\n",
      "Epoch 144/200\n",
      "150/150 [==============================] - 0s 312us/sample - loss: 0.2020 - acc: 0.9413\n",
      "Epoch 145/200\n",
      "150/150 [==============================] - 0s 319us/sample - loss: 0.2009 - acc: 0.9420\n",
      "Epoch 146/200\n",
      "150/150 [==============================] - 0s 319us/sample - loss: 0.1998 - acc: 0.9427\n",
      "Epoch 147/200\n",
      "150/150 [==============================] - 0s 332us/sample - loss: 0.1988 - acc: 0.9427\n",
      "Epoch 148/200\n",
      "150/150 [==============================] - 0s 326us/sample - loss: 0.1980 - acc: 0.9420\n",
      "Epoch 149/200\n",
      "150/150 [==============================] - 0s 332us/sample - loss: 0.1968 - acc: 0.9413\n",
      "Epoch 150/200\n",
      "150/150 [==============================] - 0s 346us/sample - loss: 0.1959 - acc: 0.9420\n",
      "Epoch 151/200\n",
      "150/150 [==============================] - 0s 319us/sample - loss: 0.1950 - acc: 0.9420\n",
      "Epoch 152/200\n",
      "150/150 [==============================] - 0s 312us/sample - loss: 0.1941 - acc: 0.9407\n",
      "Epoch 153/200\n",
      "150/150 [==============================] - 0s 339us/sample - loss: 0.1931 - acc: 0.9420\n",
      "Epoch 154/200\n",
      "150/150 [==============================] - 0s 312us/sample - loss: 0.1924 - acc: 0.9427\n",
      "Epoch 155/200\n",
      "150/150 [==============================] - 0s 299us/sample - loss: 0.1914 - acc: 0.9420\n",
      "Epoch 156/200\n",
      "150/150 [==============================] - 0s 299us/sample - loss: 0.1905 - acc: 0.9407\n",
      "Epoch 157/200\n",
      "150/150 [==============================] - 0s 366us/sample - loss: 0.1898 - acc: 0.9427\n",
      "Epoch 158/200\n",
      "150/150 [==============================] - 0s 332us/sample - loss: 0.1889 - acc: 0.9427\n",
      "Epoch 159/200\n"
     ]
    },
    {
     "name": "stdout",
     "output_type": "stream",
     "text": [
      "150/150 [==============================] - 0s 319us/sample - loss: 0.1880 - acc: 0.9420\n",
      "Epoch 160/200\n",
      "150/150 [==============================] - 0s 326us/sample - loss: 0.1871 - acc: 0.9413\n",
      "Epoch 161/200\n",
      "150/150 [==============================] - 0s 346us/sample - loss: 0.1870 - acc: 0.9413\n",
      "Epoch 162/200\n",
      "150/150 [==============================] - 0s 326us/sample - loss: 0.1857 - acc: 0.9420\n",
      "Epoch 163/200\n",
      "150/150 [==============================] - 0s 346us/sample - loss: 0.1852 - acc: 0.9400\n",
      "Epoch 164/200\n",
      "150/150 [==============================] - 0s 339us/sample - loss: 0.1843 - acc: 0.9413\n",
      "Epoch 165/200\n",
      "150/150 [==============================] - 0s 366us/sample - loss: 0.1834 - acc: 0.9413\n",
      "Epoch 166/200\n",
      "150/150 [==============================] - 0s 352us/sample - loss: 0.1829 - acc: 0.9420\n",
      "Epoch 167/200\n",
      "150/150 [==============================] - 0s 299us/sample - loss: 0.1822 - acc: 0.9427\n",
      "Epoch 168/200\n",
      "150/150 [==============================] - 0s 273us/sample - loss: 0.1820 - acc: 0.9400\n",
      "Epoch 169/200\n",
      "150/150 [==============================] - 0s 326us/sample - loss: 0.1808 - acc: 0.9420\n",
      "Epoch 170/200\n",
      "150/150 [==============================] - 0s 339us/sample - loss: 0.1800 - acc: 0.9413\n",
      "Epoch 171/200\n",
      "150/150 [==============================] - 0s 326us/sample - loss: 0.1794 - acc: 0.9427\n",
      "Epoch 172/200\n",
      "150/150 [==============================] - 0s 326us/sample - loss: 0.1789 - acc: 0.9407\n",
      "Epoch 173/200\n",
      "150/150 [==============================] - 0s 352us/sample - loss: 0.1782 - acc: 0.9413\n",
      "Epoch 174/200\n",
      "150/150 [==============================] - 0s 306us/sample - loss: 0.1774 - acc: 0.9427\n",
      "Epoch 175/200\n",
      "150/150 [==============================] - 0s 332us/sample - loss: 0.1770 - acc: 0.9413\n",
      "Epoch 176/200\n",
      "150/150 [==============================] - 0s 339us/sample - loss: 0.1762 - acc: 0.9427\n",
      "Epoch 177/200\n",
      "150/150 [==============================] - 0s 366us/sample - loss: 0.1756 - acc: 0.9433\n",
      "Epoch 178/200\n",
      "150/150 [==============================] - 0s 359us/sample - loss: 0.1750 - acc: 0.9420\n",
      "Epoch 179/200\n",
      "150/150 [==============================] - 0s 339us/sample - loss: 0.1747 - acc: 0.9413\n",
      "Epoch 180/200\n",
      "150/150 [==============================] - 0s 352us/sample - loss: 0.1740 - acc: 0.9440\n",
      "Epoch 181/200\n",
      "150/150 [==============================] - 0s 366us/sample - loss: 0.1734 - acc: 0.9420\n",
      "Epoch 182/200\n",
      "150/150 [==============================] - 0s 332us/sample - loss: 0.1732 - acc: 0.9420\n",
      "Epoch 183/200\n",
      "150/150 [==============================] - 0s 332us/sample - loss: 0.1734 - acc: 0.9413\n",
      "Epoch 184/200\n",
      "150/150 [==============================] - 0s 352us/sample - loss: 0.1721 - acc: 0.9407\n",
      "Epoch 185/200\n",
      "150/150 [==============================] - 0s 332us/sample - loss: 0.1714 - acc: 0.9420\n",
      "Epoch 186/200\n",
      "150/150 [==============================] - 0s 352us/sample - loss: 0.1709 - acc: 0.9413\n",
      "Epoch 187/200\n",
      "150/150 [==============================] - 0s 346us/sample - loss: 0.1704 - acc: 0.9420\n",
      "Epoch 188/200\n",
      "150/150 [==============================] - 0s 346us/sample - loss: 0.1701 - acc: 0.9407\n",
      "Epoch 189/200\n",
      "150/150 [==============================] - 0s 372us/sample - loss: 0.1696 - acc: 0.9420\n",
      "Epoch 190/200\n",
      "150/150 [==============================] - 0s 426us/sample - loss: 0.1690 - acc: 0.9427\n",
      "Epoch 191/200\n",
      "150/150 [==============================] - 0s 359us/sample - loss: 0.1685 - acc: 0.9433\n",
      "Epoch 192/200\n",
      "150/150 [==============================] - 0s 426us/sample - loss: 0.1680 - acc: 0.9427\n",
      "Epoch 193/200\n",
      "150/150 [==============================] - 0s 392us/sample - loss: 0.1678 - acc: 0.9413\n",
      "Epoch 194/200\n",
      "150/150 [==============================] - 0s 445us/sample - loss: 0.1674 - acc: 0.9427\n",
      "Epoch 195/200\n",
      "150/150 [==============================] - 0s 392us/sample - loss: 0.1669 - acc: 0.9420\n",
      "Epoch 196/200\n",
      "150/150 [==============================] - 0s 366us/sample - loss: 0.1665 - acc: 0.9413\n",
      "Epoch 197/200\n",
      "150/150 [==============================] - 0s 326us/sample - loss: 0.1658 - acc: 0.9420\n",
      "Epoch 198/200\n",
      "150/150 [==============================] - 0s 432us/sample - loss: 0.1656 - acc: 0.9407\n",
      "Epoch 199/200\n",
      "150/150 [==============================] - 0s 366us/sample - loss: 0.1653 - acc: 0.9413\n",
      "Epoch 200/200\n",
      "150/150 [==============================] - 0s 379us/sample - loss: 0.1646 - acc: 0.9413\n"
     ]
    },
    {
     "data": {
      "text/plain": [
       "<tensorflow.python.keras.callbacks.History at 0x29e0929ff48>"
      ]
     },
     "execution_count": 41,
     "metadata": {},
     "output_type": "execute_result"
    }
   ],
   "source": [
    "model.fit(x_data, y_data, epochs=200)"
   ]
  },
  {
   "cell_type": "code",
   "execution_count": 42,
   "metadata": {
    "colab": {
     "base_uri": "https://localhost:8080/",
     "height": 359
    },
    "colab_type": "code",
    "executionInfo": {
     "elapsed": 1532,
     "status": "ok",
     "timestamp": 1578898194450,
     "user": {
      "displayName": "이성식",
      "photoUrl": "",
      "userId": "14835492147461659891"
     },
     "user_tz": -540
    },
    "id": "WPN1UDEDoO1s",
    "outputId": "a0ca5234-5754-4379-d916-ba267abc3299",
    "scrolled": true
   },
   "outputs": [
    {
     "name": "stdout",
     "output_type": "stream",
     "text": [
      "(150, 10, 64)\n",
      "(150, 10)\n",
      "\n",
      "린 부리 파랑새\n",
      "사랑이라는 빛 하나 문다\n",
      "\n",
      "바람 지나는 밤낮\n",
      "나의 온기속에 그대 심장을\n",
      "그대 온기 속에 나의 심장을\n",
      "\n",
      "미소도 눈물도 두 심장\n",
      "하나의 맥박되어\n",
      "\n",
      "덤불 어지러운 미물의 제자리걸음\n",
      "빛으로 이끌어내며\n",
      "사철바람 타고 날개치는\n",
      "\n",
      "고운 부리 파랑새\n",
      "사랑이라는 빛 하나 문고 간다\n"
     ]
    }
   ],
   "source": [
    "# 본 예제는 training에 사용한 데이터를 예측에 사용했기 때문에 100% 정확한 값을 출력함(전체적인 로직만 참고)\n",
    "pred = model.predict(x_data)\n",
    "print(pred.shape)\n",
    "\n",
    "pred = np.argmax(pred, axis=2)\n",
    "print(pred.shape)\n",
    "\n",
    "for i, str in enumerate(pred):\n",
    "    if i == 0:\n",
    "        print(\"\".join([char_set[c] for c in str]), end='')\n",
    "    else:\n",
    "        print(char_set[str[-1]], end='')"
   ]
  },
  {
   "cell_type": "code",
   "execution_count": 43,
   "metadata": {},
   "outputs": [],
   "source": [
    "# 임의의 데이터로 생성해본다. (학습 데이터가 작아서 원하는 결과와는 ....)\n",
    "v_content = [_ for _ in \"나의 온기속 심장을\"]\n",
    "# v_content = [_ for _ in \"나는 나의 파랑새 \"]     # 학습 콘텐츠에 포함되지 않은 Token(문자)를 사용하면 에러가 남\n",
    "v_data = np.array([char_dic[_] for _ in v_content]).reshape(-1,10,)\n",
    "v_data = tf.keras.utils.to_categorical(v_data, char_len)"
   ]
  },
  {
   "cell_type": "code",
   "execution_count": 44,
   "metadata": {},
   "outputs": [
    {
     "name": "stdout",
     "output_type": "stream",
     "text": [
      "(150, 10, 64) (1, 10, 64)\n"
     ]
    }
   ],
   "source": [
    "print(x_data.shape, v_data.shape)"
   ]
  },
  {
   "cell_type": "code",
   "execution_count": 45,
   "metadata": {},
   "outputs": [
    {
     "name": "stdout",
     "output_type": "stream",
     "text": [
      "(1, 10, 64)\n",
      "(1, 10)\n",
      "의 맥기속에 그나 "
     ]
    }
   ],
   "source": [
    "pred = model.predict(v_data)\n",
    "print(pred.shape)\n",
    "\n",
    "pred = np.argmax(pred, axis=2)\n",
    "print(pred.shape)\n",
    "\n",
    "for i, str in enumerate(pred):\n",
    "    if i == 0:\n",
    "        print(\"\".join([char_set[c] for c in str]), end='')\n",
    "    else:\n",
    "        print(char_set[str[-1]], end='')"
   ]
  },
  {
   "cell_type": "markdown",
   "metadata": {
    "colab_type": "text",
    "id": "kzXMsb_r653C"
   },
   "source": [
    "# Embedding (영화 리뷰 데이터)"
   ]
  },
  {
   "cell_type": "code",
   "execution_count": 46,
   "metadata": {
    "colab": {
     "base_uri": "https://localhost:8080/",
     "height": 64
    },
    "colab_type": "code",
    "executionInfo": {
     "elapsed": 5731,
     "status": "ok",
     "timestamp": 1578903322940,
     "user": {
      "displayName": "이성식",
      "photoUrl": "",
      "userId": "14835492147461659891"
     },
     "user_tz": -540
    },
    "id": "wcWZtvQWo_nw",
    "outputId": "d53c9892-9e6d-4ee7-a7b8-955001ad6f9f"
   },
   "outputs": [],
   "source": [
    "import tensorflow as tf"
   ]
  },
  {
   "cell_type": "code",
   "execution_count": 47,
   "metadata": {},
   "outputs": [],
   "source": [
    "# numpy allow_pickle error 방지(편법)\n",
    "import numpy as np\n",
    "\n",
    "np_load_old = np.load\n",
    "\n",
    "# modify the default parameters of np.load\n",
    "np.load = lambda *a,**k: np_load_old(*a, allow_pickle=True, **k)"
   ]
  },
  {
   "cell_type": "code",
   "execution_count": 48,
   "metadata": {
    "colab": {
     "base_uri": "https://localhost:8080/",
     "height": 91
    },
    "colab_type": "code",
    "executionInfo": {
     "elapsed": 6321,
     "status": "ok",
     "timestamp": 1578903330353,
     "user": {
      "displayName": "이성식",
      "photoUrl": "",
      "userId": "14835492147461659891"
     },
     "user_tz": -540
    },
    "id": "oU1nxCg_6_fo",
    "outputId": "9751aa35-948a-4734-b88a-deb8b16073b2"
   },
   "outputs": [
    {
     "name": "stdout",
     "output_type": "stream",
     "text": [
      "(25000,) (25000,)\n",
      "[1, 14, 22, 16, 43, 530, 973, 1622, 1385, 65, 458, 4468, 66, 3941, 4, 173, 36, 256, 5, 25, 100, 43, 838, 112, 50, 670, 2, 9, 35, 480, 284, 5, 150, 4, 172, 112, 167, 2, 336, 385, 39, 4, 172, 4536, 1111, 17, 546, 38, 13, 447, 4, 192, 50, 16, 6, 147, 2025, 19, 14, 22, 4, 1920, 4613, 469, 4, 22, 71, 87, 12, 16, 43, 530, 38, 76, 15, 13, 1247, 4, 22, 17, 515, 17, 12, 16, 626, 18, 2, 5, 62, 386, 12, 8, 316, 8, 106, 5, 4, 2223, 5244, 16, 480, 66, 3785, 33, 4, 130, 12, 16, 38, 619, 5, 25, 124, 51, 36, 135, 48, 25, 1415, 33, 6, 22, 12, 215, 28, 77, 52, 5, 14, 407, 16, 82, 2, 8, 4, 107, 117, 5952, 15, 256, 4, 2, 7, 3766, 5, 723, 36, 71, 43, 530, 476, 26, 400, 317, 46, 7, 4, 2, 1029, 13, 104, 88, 4, 381, 15, 297, 98, 32, 2071, 56, 26, 141, 6, 194, 7486, 18, 4, 226, 22, 21, 134, 476, 26, 480, 5, 144, 30, 5535, 18, 51, 36, 28, 224, 92, 25, 104, 4, 226, 65, 16, 38, 1334, 88, 12, 16, 283, 5, 16, 4472, 113, 103, 32, 15, 16, 5345, 19, 178, 32]\n",
      "1\n"
     ]
    }
   ],
   "source": [
    "(x_train, y_train), (x_test, y_test) = tf.keras.datasets.imdb.load_data(num_words=10000)  \n",
    "print(x_train.shape, y_train.shape)\n",
    "print(x_train[0])\n",
    "print(y_train[0])"
   ]
  },
  {
   "cell_type": "code",
   "execution_count": 49,
   "metadata": {
    "colab": {
     "base_uri": "https://localhost:8080/",
     "height": 71
    },
    "colab_type": "code",
    "executionInfo": {
     "elapsed": 1201,
     "status": "ok",
     "timestamp": 1578903332722,
     "user": {
      "displayName": "이성식",
      "photoUrl": "",
      "userId": "14835492147461659891"
     },
     "user_tz": -540
    },
    "id": "XDoyT4gO7Uxp",
    "outputId": "6ddc9b1f-f359-4e33-aa54-d47897012de4"
   },
   "outputs": [
    {
     "name": "stdout",
     "output_type": "stream",
     "text": [
      "2494\n",
      "11\n",
      "9999\n"
     ]
    }
   ],
   "source": [
    "print(max([len(text) for text in x_train]))\n",
    "print(min([len(text) for text in x_train]))\n",
    "print(max([max(text) for text in x_train]))   # 원핫벡터의 차원 수 (데이터 로드 시 단어의 수를 10,000개로 제한 했음))"
   ]
  },
  {
   "cell_type": "code",
   "execution_count": 50,
   "metadata": {
    "colab": {
     "base_uri": "https://localhost:8080/",
     "height": 53
    },
    "colab_type": "code",
    "executionInfo": {
     "elapsed": 7114,
     "status": "ok",
     "timestamp": 1578903348244,
     "user": {
      "displayName": "이성식",
      "photoUrl": "",
      "userId": "14835492147461659891"
     },
     "user_tz": -540
    },
    "id": "3nUiRfeq7jf_",
    "outputId": "6587ae29-bfe6-4db2-c18f-b0d289d50a51"
   },
   "outputs": [
    {
     "name": "stdout",
     "output_type": "stream",
     "text": [
      "(25000,) (25000,)\n",
      "(25000, 64)\n"
     ]
    }
   ],
   "source": [
    "(x_train, y_train), (x_test, y_test) = tf.keras.datasets.imdb.load_data(num_words=10000)\n",
    "print(x_train.shape, y_train.shape)\n",
    "\n",
    "x_train = tf.keras.preprocessing.sequence.pad_sequences(x_train, maxlen=64)\n",
    "print(x_train.shape)"
   ]
  },
  {
   "cell_type": "code",
   "execution_count": 51,
   "metadata": {},
   "outputs": [],
   "source": [
    "# restore np.load for future normal usage\n",
    "np.load = np_load_old"
   ]
  },
  {
   "cell_type": "code",
   "execution_count": 52,
   "metadata": {
    "colab": {
     "base_uri": "https://localhost:8080/",
     "height": 71
    },
    "colab_type": "code",
    "executionInfo": {
     "elapsed": 722,
     "status": "ok",
     "timestamp": 1578903858910,
     "user": {
      "displayName": "이성식",
      "photoUrl": "",
      "userId": "14835492147461659891"
     },
     "user_tz": -540
    },
    "id": "5nP_GfDg9HhC",
    "outputId": "185af186-5c07-405b-baf4-3dcedf3205b5"
   },
   "outputs": [],
   "source": [
    "X = tf.keras.layers.Input(shape=(64, ))\n",
    "\n",
    "net = tf.keras.layers.Embedding(10000, 30)(X)\n",
    "# (25000, 64, 30)\n",
    "\n",
    "cell = tf.keras.layers.LSTMCell(50)\n",
    "net = tf.keras.layers.RNN(cell)(net)\n",
    "net = tf.keras.layers.Dense(1)(net)\n",
    "Y = tf.keras.layers.Activation('sigmoid')(net)\n",
    "\n",
    "model = tf.keras.models.Model(X, Y)\n",
    "model.compile(\n",
    "    optimizer='adam',\n",
    "    loss='binary_crossentropy',\n",
    "    metrics=['accuracy']\n",
    ")"
   ]
  },
  {
   "cell_type": "code",
   "execution_count": 53,
   "metadata": {
    "colab": {
     "base_uri": "https://localhost:8080/",
     "height": 341
    },
    "colab_type": "code",
    "executionInfo": {
     "elapsed": 584,
     "status": "ok",
     "timestamp": 1578903861846,
     "user": {
      "displayName": "이성식",
      "photoUrl": "",
      "userId": "14835492147461659891"
     },
     "user_tz": -540
    },
    "id": "-6UN0MzQ_FHr",
    "outputId": "f729be50-1888-45aa-d676-70b3c26f3934"
   },
   "outputs": [
    {
     "name": "stdout",
     "output_type": "stream",
     "text": [
      "_________________________________________________________________\n",
      "Layer (type)                 Output Shape              Param #   \n",
      "=================================================================\n",
      "input_7 (InputLayer)         (None, 64)                0         \n",
      "_________________________________________________________________\n",
      "embedding (Embedding)        (None, 64, 30)            300000    \n",
      "_________________________________________________________________\n",
      "rnn_5 (RNN)                  (None, 50)                16200     \n",
      "_________________________________________________________________\n",
      "dense_7 (Dense)              (None, 1)                 51        \n",
      "_________________________________________________________________\n",
      "activation_5 (Activation)    (None, 1)                 0         \n",
      "=================================================================\n",
      "Total params: 316,251\n",
      "Trainable params: 316,251\n",
      "Non-trainable params: 0\n",
      "_________________________________________________________________\n"
     ]
    }
   ],
   "source": [
    "model.summary()"
   ]
  },
  {
   "cell_type": "markdown",
   "metadata": {
    "colab": {},
    "colab_type": "code",
    "id": "j0VxKzvp_KZX"
   },
   "source": [
    "- rnn parameter(LSTM 이기 때문에 4배) : ((30 + 50) * 50 + 50) * 4"
   ]
  },
  {
   "cell_type": "code",
   "execution_count": 55,
   "metadata": {
    "colab": {
     "base_uri": "https://localhost:8080/",
     "height": 413
    },
    "colab_type": "code",
    "executionInfo": {
     "elapsed": 542292,
     "status": "ok",
     "timestamp": 1578904407742,
     "user": {
      "displayName": "이성식",
      "photoUrl": "",
      "userId": "14835492147461659891"
     },
     "user_tz": -540
    },
    "id": "94lHBDQx_pig",
    "outputId": "8ca1931c-7df9-4cc3-de1f-50fc2a3dd461"
   },
   "outputs": [
    {
     "name": "stdout",
     "output_type": "stream",
     "text": [
      "Epoch 1/10\n",
      "25000/25000 [==============================] - 42s 2ms/sample - loss: 0.4462 - acc: 0.7867\n",
      "Epoch 2/10\n",
      "25000/25000 [==============================] - 45s 2ms/sample - loss: 0.3080 - acc: 0.8703\n",
      "Epoch 3/10\n",
      "25000/25000 [==============================] - 35s 1ms/sample - loss: 0.2509 - acc: 0.89640s - loss: 0.2504 \n",
      "Epoch 4/10\n",
      "25000/25000 [==============================] - 36s 1ms/sample - loss: 0.1977 - acc: 0.9215\n",
      "Epoch 5/10\n",
      "25000/25000 [==============================] - 38s 2ms/sample - loss: 0.1508 - acc: 0.9414\n",
      "Epoch 6/10\n",
      "25000/25000 [==============================] - 35s 1ms/sample - loss: 0.1124 - acc: 0.9577\n",
      "Epoch 7/10\n",
      "25000/25000 [==============================] - 38s 2ms/sample - loss: 0.0875 - acc: 0.9683\n",
      "Epoch 8/10\n",
      "25000/25000 [==============================] - 37s 1ms/sample - loss: 0.0688 - acc: 0.9760\n",
      "Epoch 9/10\n",
      "25000/25000 [==============================] - 37s 1ms/sample - loss: 0.0536 - acc: 0.9816\n",
      "Epoch 10/10\n",
      "25000/25000 [==============================] - 38s 2ms/sample - loss: 0.0395 - acc: 0.98733s - loss: 0 - ETA: 1s\n"
     ]
    },
    {
     "data": {
      "text/plain": [
       "<tensorflow.python.keras.callbacks.History at 0x29e0c0f35c8>"
      ]
     },
     "execution_count": 55,
     "metadata": {},
     "output_type": "execute_result"
    }
   ],
   "source": [
    "model.fit(x_train, y_train, epochs=10)"
   ]
  },
  {
   "cell_type": "code",
   "execution_count": 0,
   "metadata": {
    "colab": {},
    "colab_type": "code",
    "id": "BfyORf1x_3ZX"
   },
   "outputs": [],
   "source": []
  }
 ],
 "metadata": {
  "colab": {
   "authorship_tag": "ABX9TyMpu8C8XP4giLT0zstw98Bj",
   "collapsed_sections": [
    "PFF4IRLTYa_s",
    "buzYEhw3gkH_"
   ],
   "name": "1일차RNN.ipynb",
   "provenance": []
  },
  "kernelspec": {
   "display_name": "Python 3",
   "language": "python",
   "name": "python3"
  },
  "language_info": {
   "codemirror_mode": {
    "name": "ipython",
    "version": 3
   },
   "file_extension": ".py",
   "mimetype": "text/x-python",
   "name": "python",
   "nbconvert_exporter": "python",
   "pygments_lexer": "ipython3",
   "version": "3.7.6"
  },
  "latex_envs": {
   "LaTeX_envs_menu_present": true,
   "autoclose": false,
   "autocomplete": true,
   "bibliofile": "biblio.bib",
   "cite_by": "apalike",
   "current_citInitial": 1,
   "eqLabelWithNumbers": true,
   "eqNumInitial": 1,
   "hotkeys": {
    "equation": "Ctrl-E",
    "itemize": "Ctrl-I"
   },
   "labels_anchors": false,
   "latex_user_defs": false,
   "report_style_numbering": false,
   "user_envs_cfg": false
  },
  "toc": {
   "base_numbering": 1,
   "nav_menu": {},
   "number_sections": false,
   "sideBar": true,
   "skip_h1_title": false,
   "title_cell": "Table of Contents",
   "title_sidebar": "Contents",
   "toc_cell": true,
   "toc_position": {},
   "toc_section_display": true,
   "toc_window_display": true
  }
 },
 "nbformat": 4,
 "nbformat_minor": 1
}
