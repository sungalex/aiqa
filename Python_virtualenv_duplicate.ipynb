{
 "cells": [
  {
   "cell_type": "markdown",
   "metadata": {
    "toc": true
   },
   "source": [
    "<h1>Table of Contents<span class=\"tocSkip\"></span></h1>\n",
    "<div class=\"toc\"><ul class=\"toc-item\"><li><span><a href=\"#Python-가상환경에-설치된-패키지를-다른-가상환경에-설치하기\" data-toc-modified-id=\"Python-가상환경에-설치된-패키지를-다른-가상환경에-설치하기-1\">Python 가상환경에 설치된 패키지를 다른 가상환경에 설치하기</a></span><ul class=\"toc-item\"><li><span><a href=\"#전체-패키지-리스트-재설치하기\" data-toc-modified-id=\"전체-패키지-리스트-재설치하기-1.1\">전체 패키지 리스트 재설치하기</a></span></li><li><span><a href=\"#pinwheel-환경에-설치되지-않은-패키지-만-추가-설치하기\" data-toc-modified-id=\"pinwheel-환경에-설치되지-않은-패키지-만-추가-설치하기-1.2\">pinwheel 환경에 설치되지 않은 패키지 만 추가 설치하기</a></span><ul class=\"toc-item\"><li><span><a href=\"#가상환경에-설치된-패키지-리스트-저장하기\" data-toc-modified-id=\"가상환경에-설치된-패키지-리스트-저장하기-1.2.1\">가상환경에 설치된 패키지 리스트 저장하기</a></span></li><li><span><a href=\"#pinwheel에-설치되지-않은-패키지-리스트를-requirement.txt로-만들기\" data-toc-modified-id=\"pinwheel에-설치되지-않은-패키지-리스트를-requirement.txt로-만들기-1.2.2\">pinwheel에 설치되지 않은 패키지 리스트를 requirement.txt로 만들기</a></span></li><li><span><a href=\"#&quot;pinwheel&quot;-가상환경을-활성화-한-후-&quot;requirement.txt&quot;의-패키지-리스트를-설치하기\" data-toc-modified-id=\"&quot;pinwheel&quot;-가상환경을-활성화-한-후-&quot;requirement.txt&quot;의-패키지-리스트를-설치하기-1.2.3\">\"pinwheel\" 가상환경을 활성화 한 후 \"requirement.txt\"의 패키지 리스트를 설치하기</a></span></li></ul></li><li><span><a href=\"#virtualenvwrapper를-사용하는-경우-가상환경-복제하기\" data-toc-modified-id=\"virtualenvwrapper를-사용하는-경우-가상환경-복제하기-1.3\">virtualenvwrapper를 사용하는 경우 가상환경 복제하기</a></span></li></ul></li></ul></div>"
   ]
  },
  {
   "cell_type": "markdown",
   "metadata": {},
   "source": [
    "## Python 가상환경에 설치된 패키지를 다른 가상환경에 설치하기"
   ]
  },
  {
   "cell_type": "markdown",
   "metadata": {},
   "source": [
    "- virtualenv 가상환경이 설치되어 있는 상황을 가정합니다.\n",
    "\n",
    "- vane 가상환경에 설치된 패키지들를 pinwheel 가상환경에 동일하게 설치하는 방법을 소개합니다."
   ]
  },
  {
   "cell_type": "markdown",
   "metadata": {},
   "source": [
    "### 전체 패키지 리스트 재설치하기"
   ]
  },
  {
   "cell_type": "markdown",
   "metadata": {},
   "source": [
    "- \"vane\" 가상환경을 활성화 한 후 설치된 패키지 리스트(버전정보 포함)를 \"requirement.txt\"에 저장하기\n",
    "\n",
    "~~~bash\n",
    "$ activate vane\n",
    "(vane)$ pip freeze > requirement.txt\n",
    "~~~\n",
    "\n",
    "- \"pinwheel\" 가상환경을 활성화 한 후 \"requirement.txt\"의 패키지 리스트를 설치하기\n",
    "\n",
    "~~~bash\n",
    "$ activate pinwheel\n",
    "(pinwheel)$ pip install -r requirement.txt\n",
    "~~~"
   ]
  },
  {
   "cell_type": "markdown",
   "metadata": {},
   "source": [
    "### pinwheel 환경에 설치되지 않은 패키지 만 추가 설치하기"
   ]
  },
  {
   "cell_type": "markdown",
   "metadata": {},
   "source": [
    "#### 가상환경에 설치된 패키지 리스트 저장하기"
   ]
  },
  {
   "cell_type": "markdown",
   "metadata": {},
   "source": [
    "- \"vane\" 가상환경에 설치된 패키지 리스트 저장하기\n",
    "\n",
    "  ~~~bash\n",
    "  $ activate vane\n",
    "  (vane)$ pip freeze > vnane_requirement.txt\n",
    "  ~~~\n",
    "\n",
    "- \"pinwheel\" 가상환경에 설치된 패키지 리스트 저장하기\n",
    "\n",
    "  ~~~bash\n",
    "  $ activate pinwheel\n",
    "  (pinwheel)$ pip freeze > pinwheel_requirement.txt\n",
    "  ~~~"
   ]
  },
  {
   "cell_type": "markdown",
   "metadata": {},
   "source": [
    "#### pinwheel에 설치되지 않은 패키지 리스트를 requirement.txt로 만들기"
   ]
  },
  {
   "cell_type": "code",
   "execution_count": null,
   "metadata": {},
   "outputs": [],
   "source": [
    "import numpy as np"
   ]
  },
  {
   "cell_type": "code",
   "execution_count": null,
   "metadata": {},
   "outputs": [],
   "source": [
    "# 파일 읽어오기\n",
    "with open(\"vane_requirement.txt\", 'r') as vane_file:\n",
    "    vane_pkg = vane_file.read()\n",
    "    \n",
    "with open(\"pinwheel_requirement.txt\", 'r') as pinwheel_file:\n",
    "    pinwheel_pkg = pinwheel_file.read()"
   ]
  },
  {
   "cell_type": "code",
   "execution_count": null,
   "metadata": {
    "scrolled": true
   },
   "outputs": [],
   "source": [
    "print(vane_pkg)"
   ]
  },
  {
   "cell_type": "code",
   "execution_count": null,
   "metadata": {},
   "outputs": [],
   "source": [
    "print(pinwheel_pkg)"
   ]
  },
  {
   "cell_type": "code",
   "execution_count": null,
   "metadata": {},
   "outputs": [],
   "source": [
    "# vane 패키지 설치내역 리스트로 만들기(버전 정보 포함)\n",
    "vane_list = [_.split() for _ in vane_pkg.split(\"\\n\")]\n",
    "vane_list"
   ]
  },
  {
   "cell_type": "code",
   "execution_count": null,
   "metadata": {},
   "outputs": [],
   "source": [
    "# pinwheel 패키지 설치내역 리스트로 만들기 (버전 정보 제외)\n",
    "pinwheel_list = [_.split()[0] for _ in pinwheel_pkg.split(\"\\n\")]\n",
    "pinwheel_list"
   ]
  },
  {
   "cell_type": "code",
   "execution_count": null,
   "metadata": {},
   "outputs": [],
   "source": [
    "# 설치되지 않은 패키지 찾기\n",
    "requirement = []\n",
    "for _ in vane_list:\n",
    "    if _[0] not in pinwheel_list:\n",
    "        requirement.append(_)\n",
    "requirement"
   ]
  },
  {
   "cell_type": "code",
   "execution_count": null,
   "metadata": {},
   "outputs": [],
   "source": [
    "# requirement.txt 형식으로 바꾸기\n",
    "requirement = [_[0] + \"==\" + _[1] for _ in requirement]\n",
    "requirement"
   ]
  },
  {
   "cell_type": "code",
   "execution_count": null,
   "metadata": {},
   "outputs": [],
   "source": [
    "# requirement.txt 저장하기\n",
    "with open(\"requirement.txt\", \"w\") as f:\n",
    "    for _ in requirement:\n",
    "        f.writelines(_ + \"\\n\")"
   ]
  },
  {
   "cell_type": "markdown",
   "metadata": {},
   "source": [
    "#### \"pinwheel\" 가상환경을 활성화 한 후 \"requirement.txt\"의 패키지 리스트를 설치하기\n",
    "\n",
    "~~~bash\n",
    "$ activate pinwheel\n",
    "(pinwheel)$ pip install -r requirement.txt\n",
    "~~~"
   ]
  },
  {
   "cell_type": "markdown",
   "metadata": {},
   "source": [
    "### virtualenvwrapper를 사용하는 경우 가상환경 복제하기"
   ]
  },
  {
   "cell_type": "markdown",
   "metadata": {},
   "source": [
    "- 아래와 같이 cpvirtualenv 명령어로 가상환경을 복제할 수 있습니다.\n",
    "\n",
    "~~~bash\n",
    "(vane)$ cpvirtualenv vane pinwheel\n",
    "(vane)$ activate pinwheel\n",
    "(pinwheel)$\n",
    "~~~\n",
    "\n",
    "- [virtualenvwrapper 공식 도큐먼트](https://virtualenvwrapper.readthedocs.io/en/latest/command_ref.html#cpvirtualenv)에 따르면, 아래와 같은 주의사항이 있어서 이 명령을 사용하는 것은 권장되지 않습니다.\n",
    "\n",
    "> (구글 번역) : 가상 환경 복사는 잘 지원되지 않습니다. 각 virtualenv에는 하드 코딩 된 경로 정보가 있으며, 복사 코드가 특정 파일을 업데이트해야한다는 것을 모르는 경우가 있습니다. 주의해서 사용하십시오."
   ]
  },
  {
   "cell_type": "code",
   "execution_count": null,
   "metadata": {},
   "outputs": [],
   "source": []
  }
 ],
 "metadata": {
  "kernelspec": {
   "display_name": "Python 3",
   "language": "python",
   "name": "python3"
  },
  "latex_envs": {
   "LaTeX_envs_menu_present": true,
   "autoclose": false,
   "autocomplete": true,
   "bibliofile": "biblio.bib",
   "cite_by": "apalike",
   "current_citInitial": 1,
   "eqLabelWithNumbers": true,
   "eqNumInitial": 1,
   "hotkeys": {
    "equation": "Ctrl-E",
    "itemize": "Ctrl-I"
   },
   "labels_anchors": false,
   "latex_user_defs": false,
   "report_style_numbering": false,
   "user_envs_cfg": false
  },
  "toc": {
   "base_numbering": 1,
   "nav_menu": {},
   "number_sections": false,
   "sideBar": true,
   "skip_h1_title": false,
   "title_cell": "Table of Contents",
   "title_sidebar": "Contents",
   "toc_cell": true,
   "toc_position": {},
   "toc_section_display": true,
   "toc_window_display": false
  }
 },
 "nbformat": 4,
 "nbformat_minor": 4
}
