{
 "cells": [
  {
   "cell_type": "markdown",
   "metadata": {
    "toc": true
   },
   "source": [
    "<h1>Table of Contents<span class=\"tocSkip\"></span></h1>\n",
    "<div class=\"toc\"><ul class=\"toc-item\"><li><span><a href=\"#Sublime-style-multiple-cursors-in-Jupyter\" data-toc-modified-id=\"Sublime-style-multiple-cursors-in-Jupyter-1\">Sublime-style multiple cursors in Jupyter</a></span></li><li><span><a href=\"#참고사항\" data-toc-modified-id=\"참고사항-2\">참고사항</a></span></li></ul></div>"
   ]
  },
  {
   "cell_type": "markdown",
   "metadata": {},
   "source": [
    "## Sublime-style multiple cursors in Jupyter"
   ]
  },
  {
   "cell_type": "code",
   "execution_count": null,
   "metadata": {},
   "outputs": [],
   "source": [
    "# Print the location of Jupyter's config directory\n",
    "from jupyter_core.paths import jupyter_config_dir\n",
    "jupyter_dir = jupyter_config_dir()\n",
    "print(jupyter_dir)"
   ]
  },
  {
   "cell_type": "code",
   "execution_count": null,
   "metadata": {},
   "outputs": [],
   "source": [
    "# Print the location of custom.js\n",
    "import os.path\n",
    "custom_js_path = os.path.join(jupyter_dir, 'custom', 'custom.js')\n",
    "print(custom_js_path)"
   ]
  },
  {
   "cell_type": "code",
   "execution_count": null,
   "metadata": {
    "scrolled": true
   },
   "outputs": [],
   "source": [
    "# Print the contents of custom.js, if it exists.\n",
    "def custom_print(custom_js_path=None):\n",
    "    if os.path.isfile(custom_js_path):\n",
    "     with open(custom_js_path) as f:\n",
    "         print(f.read())\n",
    "    else:\n",
    "     print(\"You don't have a custom.js file\")\n",
    "\n",
    "custom_print(custom_js_path)"
   ]
  },
  {
   "cell_type": "markdown",
   "metadata": {},
   "source": [
    "- 아래 코드를 `custom_js_path` (예, `/Users/alex/.jupyter/custom/custom.js`)에 추가합니다.\n",
    "\n",
    "    ~~~bash\n",
    "    require([\"codemirror/keymap/sublime\", \"notebook/js/cell\", \"base/js/namespace\"],\n",
    "        function(sublime_keymap, cell, IPython) {\n",
    "            cell.Cell.options_default.cm_config.keyMap = 'sublime';\n",
    "            var cells = IPython.notebook.get_cells();\n",
    "            for(var c=0; c< cells.length ; c++){\n",
    "                cells[c].code_mirror.setOption('keyMap', 'sublime');\n",
    "            }\n",
    "        } \n",
    "    );\n",
    "    ~~~\n",
    "\n",
    "- 단어 선택 후 Control+D (on Linux or Windows) or Command+D (on MacOS)로 다중 단어를 선택 합니다."
   ]
  },
  {
   "cell_type": "code",
   "execution_count": null,
   "metadata": {
    "scrolled": true
   },
   "outputs": [],
   "source": [
    "# 아래 코드로 custom_js_path (예, /Users/alex/.jupyter/custom/custom.js)에 설정 코드를 추가할 수 있습니다.\n",
    "\n",
    "# 설정을 추가할 때는 2줄 이상의 공백을 추가한 후 추가 합니다.(설정 문자열에 2줄의 공백 포함)\n",
    "custom_setting = \"\"\"\n",
    "\n",
    "\n",
    "require([\"codemirror/keymap/sublime\", \"notebook/js/cell\", \"base/js/namespace\"],\n",
    "      function(sublime_keymap, cell, IPython) {\n",
    "          cell.Cell.options_default.cm_config.keyMap = 'sublime';\n",
    "          var cells = IPython.notebook.get_cells();\n",
    "          for(var c=0; c< cells.length ; c++){\n",
    "              cells[c].code_mirror.setOption('keyMap', 'sublime');\n",
    "        }\n",
    "    } \n",
    ");\n",
    "\"\"\"\n",
    "\n",
    "# 설정을 추가 합니다.\n",
    "with open(custom_js_path, \"a\") as f:\n",
    "    f.write(custom_setting)\n",
    "    \n",
    "# custom.js에 추가된 코드를 확인 합니다.\n",
    "custom_print(custom_js_path)"
   ]
  },
  {
   "cell_type": "code",
   "execution_count": null,
   "metadata": {
    "scrolled": true
   },
   "outputs": [],
   "source": [
    "# 다중 커서 확인 (`index` 단어 선택 후 `Cmd + D` 또는 `Ctl + D`로 다중 단어 선택되는지 확인)\n",
    "import numpy as np\n",
    "\n",
    "index_array = np.arange(10)\n",
    "print(index_array)\n",
    "for index in index_array:\n",
    "    print(index)"
   ]
  },
  {
   "cell_type": "markdown",
   "metadata": {},
   "source": [
    "## 참고사항\n",
    "\n",
    "- `custom.js` 수정 후 jupyter notebook을 재시작 해야 설정이 적용 됩니다.\n",
    "\n",
    "- custom 설정을 추가 하기 전의 `Cmd + D` 키는 `delete whole line`(해당 라인 삭제) command로 동작했지만, 설정 적용 후에는 단어 다중선택 키로 동작 합니다.\n",
    "\n",
    "- `Cmd + D`는 기본적으로 커서가 있는 위치의 문자열을 자동 선택하여 해당 문자열을 다중 선택 합니다.\n",
    "\n",
    "- 특정 문자열 범위을 선택 후 `Cmd + D` 키를 누르면 해당 문자열을 다중 선택 합니다.\n",
    "\n",
    "- sublime style Keyboard Shortcuts은 아래의 링크를 참고 하세요.\n",
    "\n",
    "    - MacOS: [Sublime Text Unofficial Documentation: Keyboard Shortcuts - OSX](https://sublime-text-unofficial-documentation.readthedocs.io/en/sublime-text-2/reference/keyboard_shortcuts_osx.html)\n",
    "    - Windows: [Sublime Text 3 - Useful Shortcuts (Windows)](https://gist.github.com/mrliptontea/4c793ebdf72ed145bcbf)"
   ]
  },
  {
   "cell_type": "code",
   "execution_count": null,
   "metadata": {},
   "outputs": [],
   "source": []
  }
 ],
 "metadata": {
  "kernelspec": {
   "display_name": "Python 3",
   "language": "python",
   "name": "python3"
  },
  "language_info": {
   "codemirror_mode": {
    "name": "ipython",
    "version": 3
   },
   "file_extension": ".py",
   "mimetype": "text/x-python",
   "name": "python",
   "nbconvert_exporter": "python",
   "pygments_lexer": "ipython3",
   "version": "3.6.8"
  },
  "latex_envs": {
   "LaTeX_envs_menu_present": true,
   "autoclose": false,
   "autocomplete": true,
   "bibliofile": "biblio.bib",
   "cite_by": "apalike",
   "current_citInitial": 1,
   "eqLabelWithNumbers": true,
   "eqNumInitial": 1,
   "hotkeys": {
    "equation": "Ctrl-E",
    "itemize": "Ctrl-I"
   },
   "labels_anchors": false,
   "latex_user_defs": false,
   "report_style_numbering": false,
   "user_envs_cfg": false
  },
  "toc": {
   "base_numbering": 1,
   "nav_menu": {},
   "number_sections": false,
   "sideBar": true,
   "skip_h1_title": false,
   "title_cell": "Table of Contents",
   "title_sidebar": "Contents",
   "toc_cell": true,
   "toc_position": {},
   "toc_section_display": true,
   "toc_window_display": false
  }
 },
 "nbformat": 4,
 "nbformat_minor": 4
}
