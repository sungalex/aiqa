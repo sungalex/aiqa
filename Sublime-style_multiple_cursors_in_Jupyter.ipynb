{
 "cells": [
  {
   "cell_type": "markdown",
   "metadata": {
    "toc": true
   },
   "source": [
    "<h1>Table of Contents<span class=\"tocSkip\"></span></h1>\n",
    "<div class=\"toc\"><ul class=\"toc-item\"><li><span><a href=\"#Sublime-style-multiple-cursors-in-Jupyter\" data-toc-modified-id=\"Sublime-style-multiple-cursors-in-Jupyter-1\">Sublime-style multiple cursors in Jupyter</a></span></li></ul></div>"
   ]
  },
  {
   "cell_type": "markdown",
   "metadata": {},
   "source": [
    "## Sublime-style multiple cursors in Jupyter"
   ]
  },
  {
   "cell_type": "code",
   "execution_count": 2,
   "metadata": {},
   "outputs": [
    {
     "name": "stdout",
     "output_type": "stream",
     "text": [
      "/Users/alex/.jupyter\n"
     ]
    }
   ],
   "source": [
    " # Print the location of Jupyter's config directory\n",
    " from jupyter_core.paths import jupyter_config_dir\n",
    " jupyter_dir = jupyter_config_dir()\n",
    " print(jupyter_dir)"
   ]
  },
  {
   "cell_type": "code",
   "execution_count": 3,
   "metadata": {},
   "outputs": [
    {
     "name": "stdout",
     "output_type": "stream",
     "text": [
      "/Users/alex/.jupyter/custom/custom.js\n"
     ]
    }
   ],
   "source": [
    " # Print the location of custom.js\n",
    " import os.path\n",
    " custom_js_path = os.path.join(jupyter_dir, 'custom', 'custom.js')\n",
    " print(custom_js_path)"
   ]
  },
  {
   "cell_type": "code",
   "execution_count": 4,
   "metadata": {
    "scrolled": true
   },
   "outputs": [
    {
     "name": "stdout",
     "output_type": "stream",
     "text": [
      "// leave at least 2 line with only a star on it below, or doc generation fails\n",
      "/**\n",
      " *\n",
      " *\n",
      " * Placeholder for custom user javascript\n",
      " * mainly to be overridden in profile/static/custom/custom.js\n",
      " * This will always be an empty file in IPython\n",
      " *\n",
      " * User could add any javascript in the `profile/static/custom/custom.js` file.\n",
      " * It will be executed by the ipython notebook at load time.\n",
      " *\n",
      " * Same thing with `profile/static/custom/custom.css` to inject custom css into the notebook.\n",
      " *\n",
      " *\n",
      " * The object available at load time depend on the version of IPython in use.\n",
      " * there is no guaranties of API stability.\n",
      " *\n",
      " * The example below explain the principle, and might not be valid.\n",
      " *\n",
      " * Instances are created after the loading of this file and might need to be accessed using events:\n",
      " *     define([\n",
      " *        'base/js/namespace',\n",
      " *        'base/js/events'\n",
      " *     ], function(IPython, events) {\n",
      " *         events.on(\"app_initialized.NotebookApp\", function () {\n",
      " *             IPython.keyboard_manager....\n",
      " *         });\n",
      " *     });\n",
      " *\n",
      " * __Example 1:__\n",
      " *\n",
      " * Create a custom button in toolbar that execute `%qtconsole` in kernel\n",
      " * and hence open a qtconsole attached to the same kernel as the current notebook\n",
      " *\n",
      " *    define([\n",
      " *        'base/js/namespace',\n",
      " *        'base/js/events'\n",
      " *    ], function(IPython, events) {\n",
      " *        events.on('app_initialized.NotebookApp', function(){\n",
      " *            IPython.toolbar.add_buttons_group([\n",
      " *                {\n",
      " *                    'label'   : 'run qtconsole',\n",
      " *                    'icon'    : 'icon-terminal', // select your icon from http://fortawesome.github.io/Font-Awesome/icons\n",
      " *                    'callback': function () {\n",
      " *                        IPython.notebook.kernel.execute('%qtconsole')\n",
      " *                    }\n",
      " *                }\n",
      " *                // add more button here if needed.\n",
      " *                ]);\n",
      " *        });\n",
      " *    });\n",
      " *\n",
      " * __Example 2:__\n",
      " *\n",
      " * At the completion of the dashboard loading, load an unofficial javascript extension\n",
      " * that is installed in profile/static/custom/\n",
      " *\n",
      " *    define([\n",
      " *        'base/js/events'\n",
      " *    ], function(events) {\n",
      " *        events.on('app_initialized.DashboardApp', function(){\n",
      " *            require(['custom/unofficial_extension.js'])\n",
      " *        });\n",
      " *    });\n",
      " *\n",
      " * __Example 3:__\n",
      " *\n",
      " *  Use `jQuery.getScript(url [, success(script, textStatus, jqXHR)] );`\n",
      " *  to load custom script into the notebook.\n",
      " *\n",
      " *    // to load the metadata ui extension example.\n",
      " *    $.getScript('/static/notebook/js/celltoolbarpresets/example.js');\n",
      " *    // or\n",
      " *    // to load the metadata ui extension to control slideshow mode / reveal js for nbconvert\n",
      " *    $.getScript('/static/notebook/js/celltoolbarpresets/slideshow.js');\n",
      " *\n",
      " *\n",
      " * @module IPython\n",
      " * @namespace IPython\n",
      " * @class customjs\n",
      " * @static\n",
      " */\n",
      "\n"
     ]
    }
   ],
   "source": [
    " # Print the contents of custom.js, if it exists.\n",
    " if os.path.isfile(custom_js_path):\n",
    "     with open(custom_js_path) as f:\n",
    "         print(f.read())\n",
    " else:\n",
    "     print(\"You don't have a custom.js file\")"
   ]
  },
  {
   "cell_type": "markdown",
   "metadata": {},
   "source": [
    "- 아래 코드를 `custom_js_path` (`/Users/alex/.jupyter/custom/custom.js`)에 추가합니다.\n",
    "\n",
    "    ~~~bash\n",
    "    require([\"codemirror/keymap/sublime\", \"notebook/js/cell\", \"base/js/namespace\"],\n",
    "        function(sublime_keymap, cell, IPython) {\n",
    "            cell.Cell.options_default.cm_config.keyMap = 'sublime';\n",
    "            var cells = IPython.notebook.get_cells();\n",
    "            for(var c=0; c< cells.length ; c++){\n",
    "                cells[c].code_mirror.setOption('keyMap', 'sublime');\n",
    "            }\n",
    "        } \n",
    "    );\n",
    "    ~~~\n",
    "\n",
    "- 단어 선택 후 Control+D (on Linux or Windows) or Command+D (on MacOS)로 다중 단어를 선택 합니다."
   ]
  },
  {
   "cell_type": "code",
   "execution_count": null,
   "metadata": {},
   "outputs": [],
   "source": []
  }
 ],
 "metadata": {
  "kernelspec": {
   "display_name": "Python 3",
   "language": "python",
   "name": "python3"
  },
  "language_info": {
   "codemirror_mode": {
    "name": "ipython",
    "version": 3
   },
   "file_extension": ".py",
   "mimetype": "text/x-python",
   "name": "python",
   "nbconvert_exporter": "python",
   "pygments_lexer": "ipython3",
   "version": "3.6.8"
  },
  "latex_envs": {
   "LaTeX_envs_menu_present": true,
   "autoclose": false,
   "autocomplete": true,
   "bibliofile": "biblio.bib",
   "cite_by": "apalike",
   "current_citInitial": 1,
   "eqLabelWithNumbers": true,
   "eqNumInitial": 1,
   "hotkeys": {
    "equation": "Ctrl-E",
    "itemize": "Ctrl-I"
   },
   "labels_anchors": false,
   "latex_user_defs": false,
   "report_style_numbering": false,
   "user_envs_cfg": false
  },
  "toc": {
   "base_numbering": 1,
   "nav_menu": {},
   "number_sections": false,
   "sideBar": true,
   "skip_h1_title": false,
   "title_cell": "Table of Contents",
   "title_sidebar": "Contents",
   "toc_cell": true,
   "toc_position": {},
   "toc_section_display": true,
   "toc_window_display": false
  }
 },
 "nbformat": 4,
 "nbformat_minor": 4
}
